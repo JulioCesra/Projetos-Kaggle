{
 "cells": [
  {
   "cell_type": "code",
   "execution_count": 1,
   "id": "d749b2fe",
   "metadata": {
    "_cell_guid": "218ef42c-8a38-4c3e-8065-4839bc56699e",
    "_uuid": "34caec48-3e38-45ba-aee1-d444e97e6685",
    "collapsed": false,
    "execution": {
     "iopub.execute_input": "2025-03-06T19:37:04.529863Z",
     "iopub.status.busy": "2025-03-06T19:37:04.529365Z",
     "iopub.status.idle": "2025-03-06T19:37:07.710808Z",
     "shell.execute_reply": "2025-03-06T19:37:07.709563Z"
    },
    "jupyter": {
     "outputs_hidden": false
    },
    "papermill": {
     "duration": 3.192751,
     "end_time": "2025-03-06T19:37:07.712596",
     "exception": false,
     "start_time": "2025-03-06T19:37:04.519845",
     "status": "completed"
    },
    "tags": []
   },
   "outputs": [
    {
     "name": "stdout",
     "output_type": "stream",
     "text": [
      "/kaggle/input/road-accident-survival-dataset/accident.csv\n"
     ]
    }
   ],
   "source": [
    "# This Python 3 environment comes with many helpful analytics libraries installed\n",
    "# It is defined by the kaggle/python Docker image: https://github.com/kaggle/docker-python\n",
    "# For example, here's several helpful packages to load\n",
    "\n",
    "import numpy as np # linear algebra\n",
    "import pandas as pd # data processing, CSV file I/O (e.g. pd.read_csv)\n",
    "import seaborn as sns\n",
    "import matplotlib.pyplot as plt\n",
    "# Input data files are available in the read-only \"../input/\" directory\n",
    "# For example, running this (by clicking run or pressing Shift+Enter) will list all files under the input directory\n",
    "\n",
    "import os\n",
    "for dirname, _, filenames in os.walk('/kaggle/input'):\n",
    "    for filename in filenames:\n",
    "        print(os.path.join(dirname, filename))\n",
    "\n",
    "# You can write up to 20GB to the current directory (/kaggle/working/) that gets preserved as output when you create a version using \"Save & Run All\" \n",
    "# You can also write temporary files to /kaggle/temp/, but they won't be saved outside of the current session"
   ]
  },
  {
   "cell_type": "markdown",
   "id": "95d4675c",
   "metadata": {
    "_cell_guid": "1b636206-80c3-4f5a-afe8-942c2540c340",
    "_uuid": "10be3c61-2bb8-4207-834d-97a95124ea57",
    "collapsed": false,
    "jupyter": {
     "outputs_hidden": false
    },
    "papermill": {
     "duration": 0.007214,
     "end_time": "2025-03-06T19:37:07.727340",
     "exception": false,
     "start_time": "2025-03-06T19:37:07.720126",
     "status": "completed"
    },
    "tags": []
   },
   "source": [
    "# Road Accident Predict BR\n",
    "\n",
    "***O projeto está dividido em alguns tópicos para auxiliar no aprendizado e análise***\n",
    "\n",
    "**1 - Visualização do Dataset**\n",
    "\n",
    "**2 - Tratamento de Dados e Visualização de Outliers**\n",
    "\n",
    "**3 - Transformação de Colunas Catégorias em Númericas**\n",
    "\n",
    "**4 - Modelagem e Visualização dos Modelos de Machine Learning**\n",
    "\n",
    "**5 - Conclusões**"
   ]
  },
  {
   "cell_type": "markdown",
   "id": "a1b16394",
   "metadata": {
    "_cell_guid": "3c193e2e-bbf1-4238-b269-96ab9f8d42e8",
    "_uuid": "fc863070-51bd-430f-b923-8a27c9947040",
    "collapsed": false,
    "jupyter": {
     "outputs_hidden": false
    },
    "papermill": {
     "duration": 0.006856,
     "end_time": "2025-03-06T19:37:07.744096",
     "exception": false,
     "start_time": "2025-03-06T19:37:07.737240",
     "status": "completed"
    },
    "tags": []
   },
   "source": [
    "# Visualização do Dataset"
   ]
  },
  {
   "cell_type": "code",
   "execution_count": 2,
   "id": "3f45441d",
   "metadata": {
    "_cell_guid": "0f4af58b-25fe-4d98-b98d-841101744076",
    "_uuid": "c3e9e7be-ec35-42e1-8e1f-6761aa028cbf",
    "collapsed": false,
    "execution": {
     "iopub.execute_input": "2025-03-06T19:37:07.759684Z",
     "iopub.status.busy": "2025-03-06T19:37:07.759078Z",
     "iopub.status.idle": "2025-03-06T19:37:07.802759Z",
     "shell.execute_reply": "2025-03-06T19:37:07.801524Z"
    },
    "jupyter": {
     "outputs_hidden": false
    },
    "papermill": {
     "duration": 0.053498,
     "end_time": "2025-03-06T19:37:07.804694",
     "exception": false,
     "start_time": "2025-03-06T19:37:07.751196",
     "status": "completed"
    },
    "tags": []
   },
   "outputs": [
    {
     "data": {
      "text/html": [
       "<div>\n",
       "<style scoped>\n",
       "    .dataframe tbody tr th:only-of-type {\n",
       "        vertical-align: middle;\n",
       "    }\n",
       "\n",
       "    .dataframe tbody tr th {\n",
       "        vertical-align: top;\n",
       "    }\n",
       "\n",
       "    .dataframe thead th {\n",
       "        text-align: right;\n",
       "    }\n",
       "</style>\n",
       "<table border=\"1\" class=\"dataframe\">\n",
       "  <thead>\n",
       "    <tr style=\"text-align: right;\">\n",
       "      <th></th>\n",
       "      <th>Age</th>\n",
       "      <th>Gender</th>\n",
       "      <th>Speed_of_Impact</th>\n",
       "      <th>Helmet_Used</th>\n",
       "      <th>Seatbelt_Used</th>\n",
       "      <th>Survived</th>\n",
       "    </tr>\n",
       "  </thead>\n",
       "  <tbody>\n",
       "    <tr>\n",
       "      <th>0</th>\n",
       "      <td>56</td>\n",
       "      <td>Female</td>\n",
       "      <td>27.0</td>\n",
       "      <td>No</td>\n",
       "      <td>No</td>\n",
       "      <td>1</td>\n",
       "    </tr>\n",
       "    <tr>\n",
       "      <th>1</th>\n",
       "      <td>69</td>\n",
       "      <td>Female</td>\n",
       "      <td>46.0</td>\n",
       "      <td>No</td>\n",
       "      <td>Yes</td>\n",
       "      <td>1</td>\n",
       "    </tr>\n",
       "    <tr>\n",
       "      <th>2</th>\n",
       "      <td>46</td>\n",
       "      <td>Male</td>\n",
       "      <td>46.0</td>\n",
       "      <td>Yes</td>\n",
       "      <td>Yes</td>\n",
       "      <td>0</td>\n",
       "    </tr>\n",
       "    <tr>\n",
       "      <th>3</th>\n",
       "      <td>32</td>\n",
       "      <td>Male</td>\n",
       "      <td>117.0</td>\n",
       "      <td>No</td>\n",
       "      <td>Yes</td>\n",
       "      <td>0</td>\n",
       "    </tr>\n",
       "    <tr>\n",
       "      <th>4</th>\n",
       "      <td>60</td>\n",
       "      <td>Female</td>\n",
       "      <td>40.0</td>\n",
       "      <td>Yes</td>\n",
       "      <td>Yes</td>\n",
       "      <td>0</td>\n",
       "    </tr>\n",
       "  </tbody>\n",
       "</table>\n",
       "</div>"
      ],
      "text/plain": [
       "   Age  Gender  Speed_of_Impact Helmet_Used Seatbelt_Used  Survived\n",
       "0   56  Female             27.0          No            No         1\n",
       "1   69  Female             46.0          No           Yes         1\n",
       "2   46    Male             46.0         Yes           Yes         0\n",
       "3   32    Male            117.0          No           Yes         0\n",
       "4   60  Female             40.0         Yes           Yes         0"
      ]
     },
     "execution_count": 2,
     "metadata": {},
     "output_type": "execute_result"
    }
   ],
   "source": [
    "# Importando o dataset do Kaggle e armazenando em uma variável chamada 'dataframe_original'\n",
    "dataframe_original = pd.read_csv('/kaggle/input/road-accident-survival-dataset/accident.csv')\n",
    "dataframe_original.head() # Visualização das 5 primeiras linhas do dataset\n",
    "\n",
    "# Sobreviveu = 1\n",
    "# Não Sobreviveu = 0"
   ]
  },
  {
   "cell_type": "code",
   "execution_count": 3,
   "id": "7b5c38b7",
   "metadata": {
    "_cell_guid": "dbf4fb88-ecc9-4485-8609-3f7b44ce725f",
    "_uuid": "bc0af80a-b033-4d0c-9991-543fd2da4776",
    "collapsed": false,
    "execution": {
     "iopub.execute_input": "2025-03-06T19:37:07.821610Z",
     "iopub.status.busy": "2025-03-06T19:37:07.821268Z",
     "iopub.status.idle": "2025-03-06T19:37:07.827185Z",
     "shell.execute_reply": "2025-03-06T19:37:07.826069Z"
    },
    "jupyter": {
     "outputs_hidden": false
    },
    "papermill": {
     "duration": 0.015899,
     "end_time": "2025-03-06T19:37:07.828848",
     "exception": false,
     "start_time": "2025-03-06T19:37:07.812949",
     "status": "completed"
    },
    "tags": []
   },
   "outputs": [
    {
     "data": {
      "text/plain": [
       "(200, 6)"
      ]
     },
     "execution_count": 3,
     "metadata": {},
     "output_type": "execute_result"
    }
   ],
   "source": [
    "dataframe_original.shape # Visualizar quantas linhas e colunas tem no dataset \n",
    "# 200 linhas, 6 colunas"
   ]
  },
  {
   "cell_type": "code",
   "execution_count": 4,
   "id": "0664450d",
   "metadata": {
    "_cell_guid": "337a67ee-2bc4-4946-8998-b44bbb2a30ae",
    "_uuid": "aa164688-eb2d-4af8-a5e6-885cd25320a7",
    "collapsed": false,
    "execution": {
     "iopub.execute_input": "2025-03-06T19:37:07.845191Z",
     "iopub.status.busy": "2025-03-06T19:37:07.844818Z",
     "iopub.status.idle": "2025-03-06T19:37:07.877271Z",
     "shell.execute_reply": "2025-03-06T19:37:07.875712Z"
    },
    "jupyter": {
     "outputs_hidden": false
    },
    "papermill": {
     "duration": 0.042985,
     "end_time": "2025-03-06T19:37:07.879221",
     "exception": false,
     "start_time": "2025-03-06T19:37:07.836236",
     "status": "completed"
    },
    "tags": []
   },
   "outputs": [
    {
     "name": "stdout",
     "output_type": "stream",
     "text": [
      "<class 'pandas.core.frame.DataFrame'>\n",
      "RangeIndex: 200 entries, 0 to 199\n",
      "Data columns (total 6 columns):\n",
      " #   Column           Non-Null Count  Dtype  \n",
      "---  ------           --------------  -----  \n",
      " 0   Age              200 non-null    int64  \n",
      " 1   Gender           199 non-null    object \n",
      " 2   Speed_of_Impact  197 non-null    float64\n",
      " 3   Helmet_Used      200 non-null    object \n",
      " 4   Seatbelt_Used    200 non-null    object \n",
      " 5   Survived         200 non-null    int64  \n",
      "dtypes: float64(1), int64(2), object(3)\n",
      "memory usage: 9.5+ KB\n"
     ]
    }
   ],
   "source": [
    "dataframe_original.info()\n",
    "# Verificar quais são os tipos de dados, se tem valores nulos e o nome das colunas"
   ]
  },
  {
   "cell_type": "code",
   "execution_count": 5,
   "id": "15858f5e",
   "metadata": {
    "_cell_guid": "5a4bc8b1-f724-4a66-b944-c5e05e6edf2a",
    "_uuid": "eda4e47f-698a-4cc1-83fe-c6a882368c49",
    "collapsed": false,
    "execution": {
     "iopub.execute_input": "2025-03-06T19:37:07.895627Z",
     "iopub.status.busy": "2025-03-06T19:37:07.895252Z",
     "iopub.status.idle": "2025-03-06T19:37:07.903609Z",
     "shell.execute_reply": "2025-03-06T19:37:07.902608Z"
    },
    "jupyter": {
     "outputs_hidden": false
    },
    "papermill": {
     "duration": 0.0182,
     "end_time": "2025-03-06T19:37:07.905247",
     "exception": false,
     "start_time": "2025-03-06T19:37:07.887047",
     "status": "completed"
    },
    "tags": []
   },
   "outputs": [
    {
     "data": {
      "text/plain": [
       "Age                0\n",
       "Gender             1\n",
       "Speed_of_Impact    3\n",
       "Helmet_Used        0\n",
       "Seatbelt_Used      0\n",
       "Survived           0\n",
       "dtype: int64"
      ]
     },
     "execution_count": 5,
     "metadata": {},
     "output_type": "execute_result"
    }
   ],
   "source": [
    "dataframe_original.isnull().sum()\n",
    "# Verificar quantos valores nulos estão presentes nas colunas\n",
    "# 1 valor na coluna [gênero] e 3 valores na coluna [Speed_of_Impact] "
   ]
  },
  {
   "cell_type": "code",
   "execution_count": 6,
   "id": "a60905eb",
   "metadata": {
    "_cell_guid": "ec165aab-fb0d-4df0-a1d9-138258bf835b",
    "_uuid": "8d445514-7baa-4d45-9082-cc92b0a40942",
    "collapsed": false,
    "execution": {
     "iopub.execute_input": "2025-03-06T19:37:07.921909Z",
     "iopub.status.busy": "2025-03-06T19:37:07.921545Z",
     "iopub.status.idle": "2025-03-06T19:37:07.942283Z",
     "shell.execute_reply": "2025-03-06T19:37:07.941282Z"
    },
    "jupyter": {
     "outputs_hidden": false
    },
    "papermill": {
     "duration": 0.030966,
     "end_time": "2025-03-06T19:37:07.944014",
     "exception": false,
     "start_time": "2025-03-06T19:37:07.913048",
     "status": "completed"
    },
    "tags": []
   },
   "outputs": [
    {
     "data": {
      "text/html": [
       "<div>\n",
       "<style scoped>\n",
       "    .dataframe tbody tr th:only-of-type {\n",
       "        vertical-align: middle;\n",
       "    }\n",
       "\n",
       "    .dataframe tbody tr th {\n",
       "        vertical-align: top;\n",
       "    }\n",
       "\n",
       "    .dataframe thead th {\n",
       "        text-align: right;\n",
       "    }\n",
       "</style>\n",
       "<table border=\"1\" class=\"dataframe\">\n",
       "  <thead>\n",
       "    <tr style=\"text-align: right;\">\n",
       "      <th></th>\n",
       "      <th>Age</th>\n",
       "      <th>Speed_of_Impact</th>\n",
       "      <th>Survived</th>\n",
       "    </tr>\n",
       "  </thead>\n",
       "  <tbody>\n",
       "    <tr>\n",
       "      <th>count</th>\n",
       "      <td>200.00000</td>\n",
       "      <td>197.000000</td>\n",
       "      <td>200.00000</td>\n",
       "    </tr>\n",
       "    <tr>\n",
       "      <th>mean</th>\n",
       "      <td>43.42500</td>\n",
       "      <td>70.441624</td>\n",
       "      <td>0.50500</td>\n",
       "    </tr>\n",
       "    <tr>\n",
       "      <th>std</th>\n",
       "      <td>14.94191</td>\n",
       "      <td>30.125298</td>\n",
       "      <td>0.50123</td>\n",
       "    </tr>\n",
       "    <tr>\n",
       "      <th>min</th>\n",
       "      <td>18.00000</td>\n",
       "      <td>20.000000</td>\n",
       "      <td>0.00000</td>\n",
       "    </tr>\n",
       "    <tr>\n",
       "      <th>25%</th>\n",
       "      <td>31.00000</td>\n",
       "      <td>43.000000</td>\n",
       "      <td>0.00000</td>\n",
       "    </tr>\n",
       "    <tr>\n",
       "      <th>50%</th>\n",
       "      <td>43.50000</td>\n",
       "      <td>71.000000</td>\n",
       "      <td>1.00000</td>\n",
       "    </tr>\n",
       "    <tr>\n",
       "      <th>75%</th>\n",
       "      <td>56.00000</td>\n",
       "      <td>95.000000</td>\n",
       "      <td>1.00000</td>\n",
       "    </tr>\n",
       "    <tr>\n",
       "      <th>max</th>\n",
       "      <td>69.00000</td>\n",
       "      <td>119.000000</td>\n",
       "      <td>1.00000</td>\n",
       "    </tr>\n",
       "  </tbody>\n",
       "</table>\n",
       "</div>"
      ],
      "text/plain": [
       "             Age  Speed_of_Impact   Survived\n",
       "count  200.00000       197.000000  200.00000\n",
       "mean    43.42500        70.441624    0.50500\n",
       "std     14.94191        30.125298    0.50123\n",
       "min     18.00000        20.000000    0.00000\n",
       "25%     31.00000        43.000000    0.00000\n",
       "50%     43.50000        71.000000    1.00000\n",
       "75%     56.00000        95.000000    1.00000\n",
       "max     69.00000       119.000000    1.00000"
      ]
     },
     "execution_count": 6,
     "metadata": {},
     "output_type": "execute_result"
    }
   ],
   "source": [
    "dataframe_original.describe()\n",
    "# Verificar informações estatísticas, valores máximos, mínimos e quartis"
   ]
  },
  {
   "cell_type": "markdown",
   "id": "4a666119",
   "metadata": {
    "_cell_guid": "ed2aa5f7-62bf-434f-9227-14df4dac5628",
    "_uuid": "82d4a62c-c414-41cc-bf5a-d7e6efa0198c",
    "collapsed": false,
    "jupyter": {
     "outputs_hidden": false
    },
    "papermill": {
     "duration": 0.007337,
     "end_time": "2025-03-06T19:37:07.959056",
     "exception": false,
     "start_time": "2025-03-06T19:37:07.951719",
     "status": "completed"
    },
    "tags": []
   },
   "source": [
    "# Tratamento de Dados e Visualização de Outliers"
   ]
  },
  {
   "cell_type": "code",
   "execution_count": 7,
   "id": "ea9edf5f",
   "metadata": {
    "_cell_guid": "e39aaa40-f039-4ec5-8ee9-1df290cd2601",
    "_uuid": "312b708a-669d-44f8-812f-86c4fc727ed7",
    "collapsed": false,
    "execution": {
     "iopub.execute_input": "2025-03-06T19:37:07.976019Z",
     "iopub.status.busy": "2025-03-06T19:37:07.975652Z",
     "iopub.status.idle": "2025-03-06T19:37:07.989384Z",
     "shell.execute_reply": "2025-03-06T19:37:07.988398Z"
    },
    "jupyter": {
     "outputs_hidden": false
    },
    "papermill": {
     "duration": 0.023978,
     "end_time": "2025-03-06T19:37:07.990967",
     "exception": false,
     "start_time": "2025-03-06T19:37:07.966989",
     "status": "completed"
    },
    "tags": []
   },
   "outputs": [
    {
     "data": {
      "text/html": [
       "<div>\n",
       "<style scoped>\n",
       "    .dataframe tbody tr th:only-of-type {\n",
       "        vertical-align: middle;\n",
       "    }\n",
       "\n",
       "    .dataframe tbody tr th {\n",
       "        vertical-align: top;\n",
       "    }\n",
       "\n",
       "    .dataframe thead th {\n",
       "        text-align: right;\n",
       "    }\n",
       "</style>\n",
       "<table border=\"1\" class=\"dataframe\">\n",
       "  <thead>\n",
       "    <tr style=\"text-align: right;\">\n",
       "      <th></th>\n",
       "      <th>Age</th>\n",
       "      <th>Gender</th>\n",
       "      <th>Speed_of_Impact</th>\n",
       "      <th>Helmet_Used</th>\n",
       "      <th>Seatbelt_Used</th>\n",
       "      <th>Survived</th>\n",
       "    </tr>\n",
       "  </thead>\n",
       "  <tbody>\n",
       "    <tr>\n",
       "      <th>30</th>\n",
       "      <td>66</td>\n",
       "      <td>NaN</td>\n",
       "      <td>72.0</td>\n",
       "      <td>No</td>\n",
       "      <td>Yes</td>\n",
       "      <td>0</td>\n",
       "    </tr>\n",
       "  </tbody>\n",
       "</table>\n",
       "</div>"
      ],
      "text/plain": [
       "    Age Gender  Speed_of_Impact Helmet_Used Seatbelt_Used  Survived\n",
       "30   66    NaN             72.0          No           Yes         0"
      ]
     },
     "execution_count": 7,
     "metadata": {},
     "output_type": "execute_result"
    }
   ],
   "source": [
    "dataframe_original.loc[dataframe_original['Gender'].isnull()]\n",
    "# Localizar em qual linha está presente o valor nulo (NaN)"
   ]
  },
  {
   "cell_type": "code",
   "execution_count": 8,
   "id": "a70fdf94",
   "metadata": {
    "_cell_guid": "3ba33c11-ebfd-4f5b-a409-6c1bf980c68e",
    "_uuid": "045f18b0-aec6-492d-ac1b-0c1fbd0c6ddc",
    "collapsed": false,
    "execution": {
     "iopub.execute_input": "2025-03-06T19:37:08.009230Z",
     "iopub.status.busy": "2025-03-06T19:37:08.008817Z",
     "iopub.status.idle": "2025-03-06T19:37:08.020644Z",
     "shell.execute_reply": "2025-03-06T19:37:08.018531Z"
    },
    "jupyter": {
     "outputs_hidden": false
    },
    "papermill": {
     "duration": 0.024159,
     "end_time": "2025-03-06T19:37:08.023082",
     "exception": false,
     "start_time": "2025-03-06T19:37:07.998923",
     "status": "completed"
    },
    "tags": []
   },
   "outputs": [
    {
     "data": {
      "text/plain": [
       "Gender\n",
       "Female    110\n",
       "Male       89\n",
       "dtype: int64"
      ]
     },
     "execution_count": 8,
     "metadata": {},
     "output_type": "execute_result"
    }
   ],
   "source": [
    "dataframe_original.groupby('Gender').size()\n",
    "# Verificar qual o gênero mais frequente no dataset (Female)"
   ]
  },
  {
   "cell_type": "code",
   "execution_count": 9,
   "id": "358a47ef",
   "metadata": {
    "_cell_guid": "4bd8fab5-c52d-4fb7-8d95-a226bcb9d22e",
    "_uuid": "0cf480d3-5d5c-482e-960f-1c304b49b6db",
    "collapsed": false,
    "execution": {
     "iopub.execute_input": "2025-03-06T19:37:08.040557Z",
     "iopub.status.busy": "2025-03-06T19:37:08.040104Z",
     "iopub.status.idle": "2025-03-06T19:37:08.045897Z",
     "shell.execute_reply": "2025-03-06T19:37:08.044732Z"
    },
    "jupyter": {
     "outputs_hidden": false
    },
    "papermill": {
     "duration": 0.016745,
     "end_time": "2025-03-06T19:37:08.047875",
     "exception": false,
     "start_time": "2025-03-06T19:37:08.031130",
     "status": "completed"
    },
    "tags": []
   },
   "outputs": [],
   "source": [
    "dataframe_original.fillna({'Gender':'Female'}, inplace = True)\n",
    "# Substituição do valor nulo pelo gênero mais frequente"
   ]
  },
  {
   "cell_type": "code",
   "execution_count": 10,
   "id": "1a1d15a1",
   "metadata": {
    "_cell_guid": "b7c1aa53-1dfd-4dde-acf6-417df9bbd85a",
    "_uuid": "4ad0b4cf-6a8c-4252-afdb-564997eacb65",
    "collapsed": false,
    "execution": {
     "iopub.execute_input": "2025-03-06T19:37:08.066118Z",
     "iopub.status.busy": "2025-03-06T19:37:08.065718Z",
     "iopub.status.idle": "2025-03-06T19:37:08.082449Z",
     "shell.execute_reply": "2025-03-06T19:37:08.081298Z"
    },
    "jupyter": {
     "outputs_hidden": false
    },
    "papermill": {
     "duration": 0.028053,
     "end_time": "2025-03-06T19:37:08.084365",
     "exception": false,
     "start_time": "2025-03-06T19:37:08.056312",
     "status": "completed"
    },
    "tags": []
   },
   "outputs": [
    {
     "name": "stderr",
     "output_type": "stream",
     "text": [
      "/usr/local/lib/python3.10/dist-packages/pandas/io/formats/format.py:1458: RuntimeWarning: invalid value encountered in greater\n",
      "  has_large_values = (abs_vals > 1e6).any()\n",
      "/usr/local/lib/python3.10/dist-packages/pandas/io/formats/format.py:1459: RuntimeWarning: invalid value encountered in less\n",
      "  has_small_values = ((abs_vals < 10 ** (-self.digits)) & (abs_vals > 0)).any()\n",
      "/usr/local/lib/python3.10/dist-packages/pandas/io/formats/format.py:1459: RuntimeWarning: invalid value encountered in greater\n",
      "  has_small_values = ((abs_vals < 10 ** (-self.digits)) & (abs_vals > 0)).any()\n"
     ]
    },
    {
     "data": {
      "text/html": [
       "<div>\n",
       "<style scoped>\n",
       "    .dataframe tbody tr th:only-of-type {\n",
       "        vertical-align: middle;\n",
       "    }\n",
       "\n",
       "    .dataframe tbody tr th {\n",
       "        vertical-align: top;\n",
       "    }\n",
       "\n",
       "    .dataframe thead th {\n",
       "        text-align: right;\n",
       "    }\n",
       "</style>\n",
       "<table border=\"1\" class=\"dataframe\">\n",
       "  <thead>\n",
       "    <tr style=\"text-align: right;\">\n",
       "      <th></th>\n",
       "      <th>Age</th>\n",
       "      <th>Gender</th>\n",
       "      <th>Speed_of_Impact</th>\n",
       "      <th>Helmet_Used</th>\n",
       "      <th>Seatbelt_Used</th>\n",
       "      <th>Survived</th>\n",
       "    </tr>\n",
       "  </thead>\n",
       "  <tbody>\n",
       "    <tr>\n",
       "      <th>15</th>\n",
       "      <td>41</td>\n",
       "      <td>Female</td>\n",
       "      <td>NaN</td>\n",
       "      <td>No</td>\n",
       "      <td>No</td>\n",
       "      <td>0</td>\n",
       "    </tr>\n",
       "    <tr>\n",
       "      <th>19</th>\n",
       "      <td>41</td>\n",
       "      <td>Male</td>\n",
       "      <td>NaN</td>\n",
       "      <td>Yes</td>\n",
       "      <td>No</td>\n",
       "      <td>1</td>\n",
       "    </tr>\n",
       "    <tr>\n",
       "      <th>29</th>\n",
       "      <td>42</td>\n",
       "      <td>Male</td>\n",
       "      <td>NaN</td>\n",
       "      <td>Yes</td>\n",
       "      <td>No</td>\n",
       "      <td>0</td>\n",
       "    </tr>\n",
       "  </tbody>\n",
       "</table>\n",
       "</div>"
      ],
      "text/plain": [
       "    Age  Gender  Speed_of_Impact Helmet_Used Seatbelt_Used  Survived\n",
       "15   41  Female              NaN          No            No         0\n",
       "19   41    Male              NaN         Yes            No         1\n",
       "29   42    Male              NaN         Yes            No         0"
      ]
     },
     "execution_count": 10,
     "metadata": {},
     "output_type": "execute_result"
    }
   ],
   "source": [
    "dataframe_original.loc[dataframe_original['Speed_of_Impact'].isnull()]\n",
    "# Localização das linhas com valores nulos"
   ]
  },
  {
   "cell_type": "code",
   "execution_count": 11,
   "id": "9a10b53a",
   "metadata": {
    "_cell_guid": "1933cbcc-b16b-4912-a018-387187ff7237",
    "_uuid": "9b04d67d-d0dd-4abb-9a0b-b9464ff9abcb",
    "collapsed": false,
    "execution": {
     "iopub.execute_input": "2025-03-06T19:37:08.102106Z",
     "iopub.status.busy": "2025-03-06T19:37:08.101714Z",
     "iopub.status.idle": "2025-03-06T19:37:08.107829Z",
     "shell.execute_reply": "2025-03-06T19:37:08.106410Z"
    },
    "jupyter": {
     "outputs_hidden": false
    },
    "papermill": {
     "duration": 0.01732,
     "end_time": "2025-03-06T19:37:08.109912",
     "exception": false,
     "start_time": "2025-03-06T19:37:08.092592",
     "status": "completed"
    },
    "tags": []
   },
   "outputs": [],
   "source": [
    "dataframe_original.fillna({'Speed_of_Impact':dataframe_original['Speed_of_Impact'].mean()}, inplace = True)\n",
    "# Substituição dos valores nulos pela mediana dos valores da coluna [Speed_of_impact]"
   ]
  },
  {
   "cell_type": "code",
   "execution_count": 12,
   "id": "66910944",
   "metadata": {
    "_cell_guid": "7360adba-8029-4df4-a8bf-49b9fc3e6be8",
    "_uuid": "7a4a8db5-180e-4fe4-a949-2548d7b5e455",
    "collapsed": false,
    "execution": {
     "iopub.execute_input": "2025-03-06T19:37:08.128141Z",
     "iopub.status.busy": "2025-03-06T19:37:08.127775Z",
     "iopub.status.idle": "2025-03-06T19:37:09.116357Z",
     "shell.execute_reply": "2025-03-06T19:37:09.115123Z"
    },
    "jupyter": {
     "outputs_hidden": false
    },
    "papermill": {
     "duration": 1.000086,
     "end_time": "2025-03-06T19:37:09.118281",
     "exception": false,
     "start_time": "2025-03-06T19:37:08.118195",
     "status": "completed"
    },
    "tags": []
   },
   "outputs": [
    {
     "data": {
      "text/plain": [
       "[Text(0.5, 1.0, 'Boxplot da Velocidade de Impacto')]"
      ]
     },
     "execution_count": 12,
     "metadata": {},
     "output_type": "execute_result"
    },
    {
     "data": {
      "image/png": "[encoded data removed]",
      "text/plain": [
       "<Figure size 1200x1200 with 4 Axes>"
      ]
     },
     "metadata": {},
     "output_type": "display_data"
    }
   ],
   "source": [
    "fig, axs = plt.subplots(2, 2, figsize = (12,12))\n",
    "# Gráficos da coluna [Age]\n",
    "axs[0,0].hist(dataframe_original['Age'], bins = 10, linewidth = 0.5, edgecolor = 'white')\n",
    "axs[0,0].set(title = 'Histplot das Idades', xlabel = 'Idades', ylabel = 'Distribuição')\n",
    "axs[0,1].boxplot(dataframe_original['Age'])\n",
    "axs[0,1].set(title = 'Boxplot das Idades')\n",
    "# Gráficos da coluna [Speed_of_Impact]\n",
    "axs[1,0].hist(dataframe_original['Speed_of_Impact'], bins = 10, linewidth = 0.5, edgecolor = 'white')\n",
    "axs[1,0].set(title = 'Histplot da Velocidade de Impacto', xlabel = 'Velocidade do Impacto', ylabel = 'Distribuição')\n",
    "axs[1,1].boxplot(dataframe_original['Speed_of_Impact'])\n",
    "axs[1,1].set(title = 'Boxplot da Velocidade de Impacto')"
   ]
  },
  {
   "cell_type": "code",
   "execution_count": 13,
   "id": "4005a42f",
   "metadata": {
    "_cell_guid": "685048bb-6223-4791-b176-211702fadaf2",
    "_uuid": "1db61781-5722-4b13-a24a-cd980d7c26df",
    "collapsed": false,
    "execution": {
     "iopub.execute_input": "2025-03-06T19:37:09.141570Z",
     "iopub.status.busy": "2025-03-06T19:37:09.141128Z",
     "iopub.status.idle": "2025-03-06T19:37:09.146979Z",
     "shell.execute_reply": "2025-03-06T19:37:09.145517Z"
    },
    "jupyter": {
     "outputs_hidden": false
    },
    "papermill": {
     "duration": 0.019447,
     "end_time": "2025-03-06T19:37:09.148916",
     "exception": false,
     "start_time": "2025-03-06T19:37:09.129469",
     "status": "completed"
    },
    "tags": []
   },
   "outputs": [],
   "source": [
    "# Criação de uma cópia do dataframe que será utilizado nos modelos de machine learning\n",
    "dataframe_copia = dataframe_original.copy()"
   ]
  },
  {
   "cell_type": "markdown",
   "id": "ddeb6c60",
   "metadata": {
    "_cell_guid": "16abd56b-a658-4d01-907b-4827db923b57",
    "_uuid": "9a5df144-6f6c-443a-a505-5ae1a1c6c5d1",
    "collapsed": false,
    "jupyter": {
     "outputs_hidden": false
    },
    "papermill": {
     "duration": 0.009508,
     "end_time": "2025-03-06T19:37:09.170311",
     "exception": false,
     "start_time": "2025-03-06T19:37:09.160803",
     "status": "completed"
    },
    "tags": []
   },
   "source": [
    "# Transformação de Colunas Catégorias em Númericas"
   ]
  },
  {
   "cell_type": "code",
   "execution_count": 14,
   "id": "c0255517",
   "metadata": {
    "execution": {
     "iopub.execute_input": "2025-03-06T19:37:09.193131Z",
     "iopub.status.busy": "2025-03-06T19:37:09.192744Z",
     "iopub.status.idle": "2025-03-06T19:37:09.405817Z",
     "shell.execute_reply": "2025-03-06T19:37:09.404562Z"
    },
    "papermill": {
     "duration": 0.227098,
     "end_time": "2025-03-06T19:37:09.407817",
     "exception": false,
     "start_time": "2025-03-06T19:37:09.180719",
     "status": "completed"
    },
    "tags": []
   },
   "outputs": [],
   "source": [
    "from sklearn.preprocessing import LabelEncoder"
   ]
  },
  {
   "cell_type": "code",
   "execution_count": 15,
   "id": "f8bf091e",
   "metadata": {
    "_cell_guid": "0299eba2-b92f-4539-b4dd-b0eafba11724",
    "_uuid": "1c3e41c5-b27e-441a-afa8-3b3e81eba754",
    "collapsed": false,
    "execution": {
     "iopub.execute_input": "2025-03-06T19:37:09.428763Z",
     "iopub.status.busy": "2025-03-06T19:37:09.428307Z",
     "iopub.status.idle": "2025-03-06T19:37:09.435863Z",
     "shell.execute_reply": "2025-03-06T19:37:09.434826Z"
    },
    "jupyter": {
     "outputs_hidden": false
    },
    "papermill": {
     "duration": 0.020067,
     "end_time": "2025-03-06T19:37:09.437639",
     "exception": false,
     "start_time": "2025-03-06T19:37:09.417572",
     "status": "completed"
    },
    "tags": []
   },
   "outputs": [],
   "source": [
    "label_encoders = {}\n",
    "for col in dataframe_copia.select_dtypes(include = 'object').columns:\n",
    "    le = LabelEncoder()\n",
    "    dataframe_copia[col] = le.fit_transform(dataframe_copia[col])\n",
    "    label_encoders[col] = le"
   ]
  },
  {
   "cell_type": "code",
   "execution_count": 16,
   "id": "12b13751",
   "metadata": {
    "_cell_guid": "fe69bb53-0381-4cda-a044-35dbc793aed8",
    "_uuid": "54f2385e-b57f-4c33-b8ea-78b149810370",
    "collapsed": false,
    "execution": {
     "iopub.execute_input": "2025-03-06T19:37:09.457889Z",
     "iopub.status.busy": "2025-03-06T19:37:09.457478Z",
     "iopub.status.idle": "2025-03-06T19:37:09.828440Z",
     "shell.execute_reply": "2025-03-06T19:37:09.827288Z"
    },
    "jupyter": {
     "outputs_hidden": false
    },
    "papermill": {
     "duration": 0.383065,
     "end_time": "2025-03-06T19:37:09.830311",
     "exception": false,
     "start_time": "2025-03-06T19:37:09.447246",
     "status": "completed"
    },
    "tags": []
   },
   "outputs": [
    {
     "data": {
      "text/plain": [
       "<Axes: >"
      ]
     },
     "execution_count": 16,
     "metadata": {},
     "output_type": "execute_result"
    },
    {
     "data": {
      "image/png": "[encoded data removed]",
      "text/plain": [
       "<Figure size 640x480 with 2 Axes>"
      ]
     },
     "metadata": {},
     "output_type": "display_data"
    }
   ],
   "source": [
    "correlacao = dataframe_copia.corr()\n",
    "sns.heatmap(correlacao, cmap = 'coolwarm', fmt = '.1f', annot = True)"
   ]
  },
  {
   "cell_type": "code",
   "execution_count": 17,
   "id": "c5fd3ac0",
   "metadata": {
    "_cell_guid": "b1094907-70bc-4c8f-826c-123fb251b796",
    "_uuid": "bec78472-c2df-4991-9091-954b2025c380",
    "collapsed": false,
    "execution": {
     "iopub.execute_input": "2025-03-06T19:37:09.852891Z",
     "iopub.status.busy": "2025-03-06T19:37:09.852496Z",
     "iopub.status.idle": "2025-03-06T19:37:09.863033Z",
     "shell.execute_reply": "2025-03-06T19:37:09.861902Z"
    },
    "jupyter": {
     "outputs_hidden": false
    },
    "papermill": {
     "duration": 0.023943,
     "end_time": "2025-03-06T19:37:09.864869",
     "exception": false,
     "start_time": "2025-03-06T19:37:09.840926",
     "status": "completed"
    },
    "tags": []
   },
   "outputs": [
    {
     "data": {
      "text/html": [
       "<div>\n",
       "<style scoped>\n",
       "    .dataframe tbody tr th:only-of-type {\n",
       "        vertical-align: middle;\n",
       "    }\n",
       "\n",
       "    .dataframe tbody tr th {\n",
       "        vertical-align: top;\n",
       "    }\n",
       "\n",
       "    .dataframe thead th {\n",
       "        text-align: right;\n",
       "    }\n",
       "</style>\n",
       "<table border=\"1\" class=\"dataframe\">\n",
       "  <thead>\n",
       "    <tr style=\"text-align: right;\">\n",
       "      <th></th>\n",
       "      <th>Age</th>\n",
       "      <th>Gender</th>\n",
       "      <th>Speed_of_Impact</th>\n",
       "      <th>Helmet_Used</th>\n",
       "      <th>Seatbelt_Used</th>\n",
       "      <th>Survived</th>\n",
       "    </tr>\n",
       "  </thead>\n",
       "  <tbody>\n",
       "    <tr>\n",
       "      <th>0</th>\n",
       "      <td>56</td>\n",
       "      <td>0</td>\n",
       "      <td>27.0</td>\n",
       "      <td>0</td>\n",
       "      <td>0</td>\n",
       "      <td>1</td>\n",
       "    </tr>\n",
       "    <tr>\n",
       "      <th>1</th>\n",
       "      <td>69</td>\n",
       "      <td>0</td>\n",
       "      <td>46.0</td>\n",
       "      <td>0</td>\n",
       "      <td>1</td>\n",
       "      <td>1</td>\n",
       "    </tr>\n",
       "    <tr>\n",
       "      <th>2</th>\n",
       "      <td>46</td>\n",
       "      <td>1</td>\n",
       "      <td>46.0</td>\n",
       "      <td>1</td>\n",
       "      <td>1</td>\n",
       "      <td>0</td>\n",
       "    </tr>\n",
       "  </tbody>\n",
       "</table>\n",
       "</div>"
      ],
      "text/plain": [
       "   Age  Gender  Speed_of_Impact  Helmet_Used  Seatbelt_Used  Survived\n",
       "0   56       0             27.0            0              0         1\n",
       "1   69       0             46.0            0              1         1\n",
       "2   46       1             46.0            1              1         0"
      ]
     },
     "execution_count": 17,
     "metadata": {},
     "output_type": "execute_result"
    }
   ],
   "source": [
    "dataframe_copia.head(3)"
   ]
  },
  {
   "cell_type": "markdown",
   "id": "d1ae84d0",
   "metadata": {
    "_cell_guid": "b47287b0-72f8-48b7-b844-f95dd462d17d",
    "_uuid": "c13696d0-bb52-4d8f-a854-fae9a70eb27e",
    "collapsed": false,
    "jupyter": {
     "outputs_hidden": false
    },
    "papermill": {
     "duration": 0.010883,
     "end_time": "2025-03-06T19:37:09.886467",
     "exception": false,
     "start_time": "2025-03-06T19:37:09.875584",
     "status": "completed"
    },
    "tags": []
   },
   "source": [
    "# Modelagem e Visualização dos Modelos de Machine Learning"
   ]
  },
  {
   "cell_type": "code",
   "execution_count": 18,
   "id": "dcaaaf55",
   "metadata": {
    "_cell_guid": "cd6591d1-90c4-4201-b82b-2fbe60779bcf",
    "_uuid": "37015134-df3a-468a-8e78-9cfcde363bb5",
    "collapsed": false,
    "execution": {
     "iopub.execute_input": "2025-03-06T19:37:09.908883Z",
     "iopub.status.busy": "2025-03-06T19:37:09.908506Z",
     "iopub.status.idle": "2025-03-06T19:37:10.613784Z",
     "shell.execute_reply": "2025-03-06T19:37:10.612426Z"
    },
    "jupyter": {
     "outputs_hidden": false
    },
    "papermill": {
     "duration": 0.719068,
     "end_time": "2025-03-06T19:37:10.616023",
     "exception": false,
     "start_time": "2025-03-06T19:37:09.896955",
     "status": "completed"
    },
    "tags": []
   },
   "outputs": [],
   "source": [
    "from sklearn.tree import DecisionTreeClassifier # Árvore de Decisão\n",
    "from sklearn.ensemble import RandomForestClassifier # Random Forest\n",
    "from sklearn.neighbors import KNeighborsClassifier # KNN\n",
    "from sklearn.svm import SVC # Suport Machine Vector\n",
    "from sklearn.naive_bayes import GaussianNB # Gaussian\n",
    "from sklearn.metrics import accuracy_score\n",
    "from sklearn.model_selection import train_test_split\n",
    "from sklearn.linear_model import LogisticRegression"
   ]
  },
  {
   "cell_type": "code",
   "execution_count": 19,
   "id": "b804404b",
   "metadata": {
    "_cell_guid": "db6b3b96-77a2-4abf-854f-d8ecab285aae",
    "_uuid": "b8808647-c918-4c58-8196-0d679bbc5e31",
    "collapsed": false,
    "execution": {
     "iopub.execute_input": "2025-03-06T19:37:10.638754Z",
     "iopub.status.busy": "2025-03-06T19:37:10.638336Z",
     "iopub.status.idle": "2025-03-06T19:37:10.643849Z",
     "shell.execute_reply": "2025-03-06T19:37:10.642681Z"
    },
    "jupyter": {
     "outputs_hidden": false
    },
    "papermill": {
     "duration": 0.018904,
     "end_time": "2025-03-06T19:37:10.645889",
     "exception": false,
     "start_time": "2025-03-06T19:37:10.626985",
     "status": "completed"
    },
    "tags": []
   },
   "outputs": [],
   "source": [
    "modelos_valores = []\n",
    "modelos_nomes = ['Árvore de Decisão', 'Random Forest', 'KNN', 'Suport Vector', 'Gaussian','LogisticRegression']\n",
    "modelos = [DecisionTreeClassifier(), RandomForestClassifier(), KNeighborsClassifier(), SVC(), GaussianNB(),LogisticRegression()]"
   ]
  },
  {
   "cell_type": "code",
   "execution_count": 20,
   "id": "b00b719e",
   "metadata": {
    "_cell_guid": "c3fe137e-1f2c-4ca3-a2bf-dc571a4899aa",
    "_uuid": "f7b31e43-e4b9-476b-b9a8-85a55be1eb18",
    "collapsed": false,
    "execution": {
     "iopub.execute_input": "2025-03-06T19:37:10.668422Z",
     "iopub.status.busy": "2025-03-06T19:37:10.667976Z",
     "iopub.status.idle": "2025-03-06T19:37:10.674192Z",
     "shell.execute_reply": "2025-03-06T19:37:10.672882Z"
    },
    "jupyter": {
     "outputs_hidden": false
    },
    "papermill": {
     "duration": 0.019399,
     "end_time": "2025-03-06T19:37:10.676083",
     "exception": false,
     "start_time": "2025-03-06T19:37:10.656684",
     "status": "completed"
    },
    "tags": []
   },
   "outputs": [],
   "source": [
    "X = dataframe_copia.iloc[:, 0:4].values\n",
    "y = dataframe_copia.iloc[:, -1].values"
   ]
  },
  {
   "cell_type": "code",
   "execution_count": 21,
   "id": "8f0316d9",
   "metadata": {
    "_cell_guid": "ee7c2f20-cf1f-48fa-b026-4291eae76d55",
    "_uuid": "747442d9-02db-4fd8-a9ec-7e4e3c9a3727",
    "collapsed": false,
    "execution": {
     "iopub.execute_input": "2025-03-06T19:37:10.698611Z",
     "iopub.status.busy": "2025-03-06T19:37:10.698180Z",
     "iopub.status.idle": "2025-03-06T19:37:10.704289Z",
     "shell.execute_reply": "2025-03-06T19:37:10.702968Z"
    },
    "jupyter": {
     "outputs_hidden": false
    },
    "papermill": {
     "duration": 0.01945,
     "end_time": "2025-03-06T19:37:10.706332",
     "exception": false,
     "start_time": "2025-03-06T19:37:10.686882",
     "status": "completed"
    },
    "tags": []
   },
   "outputs": [],
   "source": [
    "X_train, X_test, y_train, y_test = train_test_split(X, y, test_size = 0.2, random_state = 0)"
   ]
  },
  {
   "cell_type": "code",
   "execution_count": 22,
   "id": "ce498444",
   "metadata": {
    "_cell_guid": "da005820-86be-4e63-920b-4b304a9b8970",
    "_uuid": "1c688d5c-394f-4a23-82cd-58b2da5a4c13",
    "collapsed": false,
    "execution": {
     "iopub.execute_input": "2025-03-06T19:37:10.729664Z",
     "iopub.status.busy": "2025-03-06T19:37:10.729251Z",
     "iopub.status.idle": "2025-03-06T19:37:10.928133Z",
     "shell.execute_reply": "2025-03-06T19:37:10.926675Z"
    },
    "jupyter": {
     "outputs_hidden": false
    },
    "papermill": {
     "duration": 0.212813,
     "end_time": "2025-03-06T19:37:10.930201",
     "exception": false,
     "start_time": "2025-03-06T19:37:10.717388",
     "status": "completed"
    },
    "tags": []
   },
   "outputs": [],
   "source": [
    "for i in range(len(modelos)):\n",
    "    modelos[i].fit(X_train, y_train)\n",
    "    y_pred = modelos[i].predict(X_test)\n",
    "    modelos_valores.append(accuracy_score(y_test, y_pred))"
   ]
  },
  {
   "cell_type": "code",
   "execution_count": 23,
   "id": "b2ce7287",
   "metadata": {
    "_cell_guid": "3bdfbe04-4ca3-4fcf-8c1a-b7e066385b00",
    "_uuid": "7e6a1540-6c19-4cc4-8726-03b6fbad6725",
    "collapsed": false,
    "execution": {
     "iopub.execute_input": "2025-03-06T19:37:10.952526Z",
     "iopub.status.busy": "2025-03-06T19:37:10.952109Z",
     "iopub.status.idle": "2025-03-06T19:37:10.958879Z",
     "shell.execute_reply": "2025-03-06T19:37:10.957641Z"
    },
    "jupyter": {
     "outputs_hidden": false
    },
    "papermill": {
     "duration": 0.019915,
     "end_time": "2025-03-06T19:37:10.960780",
     "exception": false,
     "start_time": "2025-03-06T19:37:10.940865",
     "status": "completed"
    },
    "tags": []
   },
   "outputs": [
    {
     "data": {
      "text/plain": [
       "[0.425, 0.45, 0.475, 0.425, 0.5, 0.5]"
      ]
     },
     "execution_count": 23,
     "metadata": {},
     "output_type": "execute_result"
    }
   ],
   "source": [
    "modelos_valores"
   ]
  },
  {
   "cell_type": "code",
   "execution_count": 24,
   "id": "0ba8b0f2",
   "metadata": {
    "_cell_guid": "dffa2741-5325-487e-9bb1-07555b0ca3ac",
    "_uuid": "df114d4e-d3d5-4688-8a7c-7d7e7a9a26ac",
    "collapsed": false,
    "execution": {
     "iopub.execute_input": "2025-03-06T19:37:10.983746Z",
     "iopub.status.busy": "2025-03-06T19:37:10.983362Z",
     "iopub.status.idle": "2025-03-06T19:37:11.209806Z",
     "shell.execute_reply": "2025-03-06T19:37:11.208253Z"
    },
    "jupyter": {
     "outputs_hidden": false
    },
    "papermill": {
     "duration": 0.239975,
     "end_time": "2025-03-06T19:37:11.211799",
     "exception": false,
     "start_time": "2025-03-06T19:37:10.971824",
     "status": "completed"
    },
    "tags": []
   },
   "outputs": [
    {
     "name": "stderr",
     "output_type": "stream",
     "text": [
      "/usr/local/lib/python3.10/dist-packages/seaborn/_oldcore.py:1765: FutureWarning: unique with argument that is not not a Series, Index, ExtensionArray, or np.ndarray is deprecated and will raise in a future version.\n",
      "  order = pd.unique(vector)\n"
     ]
    },
    {
     "data": {
      "text/plain": [
       "(array([0, 1, 2, 3, 4, 5]),\n",
       " [Text(0, 0, 'Árvore de Decisão'),\n",
       "  Text(1, 0, 'Random Forest'),\n",
       "  Text(2, 0, 'KNN'),\n",
       "  Text(3, 0, 'Suport Vector'),\n",
       "  Text(4, 0, 'Gaussian'),\n",
       "  Text(5, 0, 'LogisticRegression')])"
      ]
     },
     "execution_count": 24,
     "metadata": {},
     "output_type": "execute_result"
    },
    {
     "data": {
      "image/png": "[encoded data removed]",
      "text/plain": [
       "<Figure size 800x800 with 1 Axes>"
      ]
     },
     "metadata": {},
     "output_type": "display_data"
    }
   ],
   "source": [
    "plt.figure(figsize = (8,8))\n",
    "sns.barplot(data = dataframe_copia, x = modelos_nomes, y = modelos_valores)\n",
    "plt.xticks(rotation = 45)"
   ]
  },
  {
   "cell_type": "markdown",
   "id": "82dac58c",
   "metadata": {
    "_cell_guid": "8a08157e-c97d-44be-b8eb-49abba20abf2",
    "_uuid": "91669f83-5c60-4042-8922-12681cb9cc40",
    "collapsed": false,
    "jupyter": {
     "outputs_hidden": false
    },
    "papermill": {
     "duration": 0.011277,
     "end_time": "2025-03-06T19:37:11.235216",
     "exception": false,
     "start_time": "2025-03-06T19:37:11.223939",
     "status": "completed"
    },
    "tags": []
   },
   "source": [
    "# Conclusões"
   ]
  },
  {
   "cell_type": "markdown",
   "id": "a873a30c",
   "metadata": {
    "_cell_guid": "1a21ee26-1bd8-45df-b667-0d3171aa8996",
    "_uuid": "25dea44a-9bba-423b-adcd-83e28c4d2277",
    "collapsed": false,
    "jupyter": {
     "outputs_hidden": false
    },
    "papermill": {
     "duration": 0.011075,
     "end_time": "2025-03-06T19:37:11.257896",
     "exception": false,
     "start_time": "2025-03-06T19:37:11.246821",
     "status": "completed"
    },
    "tags": []
   },
   "source": [
    "***1 - Os modelos de classificação Gaussian e LogisticRegression apresentaram acurácia semelhantes igual a 0.5, como o dataset tem poucos dados com 200 instâncias, algumas modificações usando hiper parâmetros é possível aumentar esse valor.***\n",
    "\n",
    "***2 - O dataset é muito bom para estudos, testar os modelos de classificação e a construção de gráficos.***"
   ]
  }
 ],
 "metadata": {
  "kaggle": {
   "accelerator": "none",
   "dataSources": [
    {
     "datasetId": 6502557,
     "sourceId": 10503525,
     "sourceType": "datasetVersion"
    }
   ],
   "dockerImageVersionId": 30918,
   "isGpuEnabled": false,
   "isInternetEnabled": true,
   "language": "python",
   "sourceType": "notebook"
  },
  "kernelspec": {
   "display_name": "Python 3",
   "language": "python",
   "name": "python3"
  },
  "language_info": {
   "codemirror_mode": {
    "name": "ipython",
    "version": 3
   },
   "file_extension": ".py",
   "mimetype": "text/x-python",
   "name": "python",
   "nbconvert_exporter": "python",
   "pygments_lexer": "ipython3",
   "version": "3.10.12"
  },
  "papermill": {
   "default_parameters": {},
   "duration": 10.590827,
   "end_time": "2025-03-06T19:37:12.091511",
   "environment_variables": {},
   "exception": null,
   "input_path": "__notebook__.ipynb",
   "output_path": "__notebook__.ipynb",
   "parameters": {},
   "start_time": "2025-03-06T19:37:01.500684",
   "version": "2.6.0"
  }
 },
 "nbformat": 4,
 "nbformat_minor": 5
}
