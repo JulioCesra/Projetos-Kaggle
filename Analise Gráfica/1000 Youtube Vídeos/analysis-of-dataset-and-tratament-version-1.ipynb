{
 "cells": [
  {
   "cell_type": "code",
   "execution_count": 1,
   "id": "7ca9ff21",
   "metadata": {
    "_cell_guid": "b1076dfc-b9ad-4769-8c92-a6c4dae69d19",
    "_uuid": "8f2839f25d086af736a60e9eeb907d3b93b6e0e5",
    "execution": {
     "iopub.execute_input": "2025-02-11T22:50:23.840221Z",
     "iopub.status.busy": "2025-02-11T22:50:23.839900Z",
     "iopub.status.idle": "2025-02-11T22:50:27.041700Z",
     "shell.execute_reply": "2025-02-11T22:50:27.040818Z"
    },
    "papermill": {
     "duration": 3.212588,
     "end_time": "2025-02-11T22:50:27.043259",
     "exception": false,
     "start_time": "2025-02-11T22:50:23.830671",
     "status": "completed"
    },
    "tags": []
   },
   "outputs": [
    {
     "name": "stdout",
     "output_type": "stream",
     "text": [
      "/kaggle/input/most-popular-1000-youtube-videos/Most popular 1000 Youtube videos.csv\n"
     ]
    }
   ],
   "source": [
    "# This Python 3 environment comes with many helpful analytics libraries installed\n",
    "# It is defined by the kaggle/python Docker image: https://github.com/kaggle/docker-python\n",
    "# For example, here's several helpful packages to load\n",
    "\n",
    "import numpy as np # linear algebra\n",
    "import pandas as pd # data processing, CSV file I/O (e.g. pd.read_csv)\n",
    "import matplotlib.pyplot as plt # Graph constructor\n",
    "import seaborn as sns # Graph constructor\n",
    "\n",
    "# Input data files are available in the read-only \"../input/\" directory\n",
    "# For example, running this (by clicking run or pressing Shift+Enter) will list all files under the input directory\n",
    "\n",
    "import os\n",
    "for dirname, _, filenames in os.walk('/kaggle/input'):\n",
    "    for filename in filenames:\n",
    "        print(os.path.join(dirname, filename))\n",
    "\n",
    "# You can write up to 20GB to the current directory (/kaggle/working/) that gets preserved as output when you create a version using \"Save & Run All\" \n",
    "# You can also write temporary files to /kaggle/temp/, but they won't be saved outside of the current session"
   ]
  },
  {
   "cell_type": "markdown",
   "id": "e4fa26b9",
   "metadata": {
    "papermill": {
     "duration": 0.007191,
     "end_time": "2025-02-11T22:50:27.059729",
     "exception": false,
     "start_time": "2025-02-11T22:50:27.052538",
     "status": "completed"
    },
    "tags": []
   },
   "source": [
    "**This is my first data science project in this plataform, i am not profissional in this area, but i want to be. Any error in my code, please, comment, is very important to me. In the future i will increments another functions in this code when i learning more about this area and the machine learning commands, thanks.**"
   ]
  },
  {
   "cell_type": "markdown",
   "id": "0aa661c3",
   "metadata": {
    "papermill": {
     "duration": 0.005016,
     "end_time": "2025-02-11T22:50:27.070164",
     "exception": false,
     "start_time": "2025-02-11T22:50:27.065148",
     "status": "completed"
    },
    "tags": []
   },
   "source": [
    "**IMPORTING THE DATABASE**"
   ]
  },
  {
   "cell_type": "code",
   "execution_count": 2,
   "id": "8c8d63e5",
   "metadata": {
    "execution": {
     "iopub.execute_input": "2025-02-11T22:50:27.082371Z",
     "iopub.status.busy": "2025-02-11T22:50:27.081733Z",
     "iopub.status.idle": "2025-02-11T22:50:27.103744Z",
     "shell.execute_reply": "2025-02-11T22:50:27.102814Z"
    },
    "papermill": {
     "duration": 0.02999,
     "end_time": "2025-02-11T22:50:27.105436",
     "exception": false,
     "start_time": "2025-02-11T22:50:27.075446",
     "status": "completed"
    },
    "tags": []
   },
   "outputs": [],
   "source": [
    "df = pd.read_csv('/kaggle/input/most-popular-1000-youtube-videos/Most popular 1000 Youtube videos.csv')"
   ]
  },
  {
   "cell_type": "markdown",
   "id": "c7382f7e",
   "metadata": {
    "papermill": {
     "duration": 0.005194,
     "end_time": "2025-02-11T22:50:27.116668",
     "exception": false,
     "start_time": "2025-02-11T22:50:27.111474",
     "status": "completed"
    },
    "tags": []
   },
   "source": [
    "**FIRST AND RAPID ANALISYS OF THE DATA**"
   ]
  },
  {
   "cell_type": "code",
   "execution_count": 3,
   "id": "f5e8fe47",
   "metadata": {
    "execution": {
     "iopub.execute_input": "2025-02-11T22:50:27.130102Z",
     "iopub.status.busy": "2025-02-11T22:50:27.129710Z",
     "iopub.status.idle": "2025-02-11T22:50:27.160017Z",
     "shell.execute_reply": "2025-02-11T22:50:27.159071Z"
    },
    "papermill": {
     "duration": 0.039258,
     "end_time": "2025-02-11T22:50:27.161302",
     "exception": false,
     "start_time": "2025-02-11T22:50:27.122044",
     "status": "completed"
    },
    "tags": []
   },
   "outputs": [
    {
     "data": {
      "text/html": [
       "<div>\n",
       "<style scoped>\n",
       "    .dataframe tbody tr th:only-of-type {\n",
       "        vertical-align: middle;\n",
       "    }\n",
       "\n",
       "    .dataframe tbody tr th {\n",
       "        vertical-align: top;\n",
       "    }\n",
       "\n",
       "    .dataframe thead th {\n",
       "        text-align: right;\n",
       "    }\n",
       "</style>\n",
       "<table border=\"1\" class=\"dataframe\">\n",
       "  <thead>\n",
       "    <tr style=\"text-align: right;\">\n",
       "      <th></th>\n",
       "      <th>rank</th>\n",
       "      <th>Video</th>\n",
       "      <th>Video views</th>\n",
       "      <th>Likes</th>\n",
       "      <th>Dislikes</th>\n",
       "      <th>Category</th>\n",
       "      <th>published</th>\n",
       "    </tr>\n",
       "  </thead>\n",
       "  <tbody>\n",
       "    <tr>\n",
       "      <th>0</th>\n",
       "      <td>1</td>\n",
       "      <td>Lil Nas X - Old Town Road (Official Movie) ft....</td>\n",
       "      <td>54,071,677</td>\n",
       "      <td>3,497,955</td>\n",
       "      <td>78,799</td>\n",
       "      <td>Music</td>\n",
       "      <td>2019</td>\n",
       "    </tr>\n",
       "    <tr>\n",
       "      <th>1</th>\n",
       "      <td>2</td>\n",
       "      <td>20 Tennis shots if they were not filmed, NOBOD...</td>\n",
       "      <td>3,471,237</td>\n",
       "      <td>19,023</td>\n",
       "      <td>859</td>\n",
       "      <td>NaN</td>\n",
       "      <td>2017</td>\n",
       "    </tr>\n",
       "    <tr>\n",
       "      <th>2</th>\n",
       "      <td>3</td>\n",
       "      <td>JoJo Siwa - Karma (Official Video)</td>\n",
       "      <td>34,206,747</td>\n",
       "      <td>293,563</td>\n",
       "      <td>NaN</td>\n",
       "      <td>Music</td>\n",
       "      <td>2024</td>\n",
       "    </tr>\n",
       "    <tr>\n",
       "      <th>3</th>\n",
       "      <td>4</td>\n",
       "      <td>David Kushner - Daylight (Official Music Video)</td>\n",
       "      <td>18,558,390</td>\n",
       "      <td>680,732</td>\n",
       "      <td>NaN</td>\n",
       "      <td>Music</td>\n",
       "      <td>2023</td>\n",
       "    </tr>\n",
       "    <tr>\n",
       "      <th>4</th>\n",
       "      <td>5</td>\n",
       "      <td>Wiz Khalifa - See You Again ft. Charlie Puth [...</td>\n",
       "      <td>6,547,981,039</td>\n",
       "      <td>44,428,537</td>\n",
       "      <td>NaN</td>\n",
       "      <td>Music</td>\n",
       "      <td>2015</td>\n",
       "    </tr>\n",
       "  </tbody>\n",
       "</table>\n",
       "</div>"
      ],
      "text/plain": [
       "   rank                                              Video    Video views  \\\n",
       "0     1  Lil Nas X - Old Town Road (Official Movie) ft....     54,071,677   \n",
       "1     2  20 Tennis shots if they were not filmed, NOBOD...      3,471,237   \n",
       "2     3                 JoJo Siwa - Karma (Official Video)     34,206,747   \n",
       "3     4    David Kushner - Daylight (Official Music Video)     18,558,390   \n",
       "4     5  Wiz Khalifa - See You Again ft. Charlie Puth [...  6,547,981,039   \n",
       "\n",
       "        Likes Dislikes Category  published  \n",
       "0   3,497,955   78,799    Music       2019  \n",
       "1      19,023      859      NaN       2017  \n",
       "2     293,563      NaN    Music       2024  \n",
       "3     680,732      NaN    Music       2023  \n",
       "4  44,428,537      NaN    Music       2015  "
      ]
     },
     "execution_count": 3,
     "metadata": {},
     "output_type": "execute_result"
    }
   ],
   "source": [
    "df.head() # Verifying the first five elements of the data"
   ]
  },
  {
   "cell_type": "code",
   "execution_count": 4,
   "id": "5665a8bc",
   "metadata": {
    "execution": {
     "iopub.execute_input": "2025-02-11T22:50:27.173484Z",
     "iopub.status.busy": "2025-02-11T22:50:27.173068Z",
     "iopub.status.idle": "2025-02-11T22:50:27.184620Z",
     "shell.execute_reply": "2025-02-11T22:50:27.183574Z"
    },
    "papermill": {
     "duration": 0.019258,
     "end_time": "2025-02-11T22:50:27.186120",
     "exception": false,
     "start_time": "2025-02-11T22:50:27.166862",
     "status": "completed"
    },
    "tags": []
   },
   "outputs": [
    {
     "data": {
      "text/html": [
       "<div>\n",
       "<style scoped>\n",
       "    .dataframe tbody tr th:only-of-type {\n",
       "        vertical-align: middle;\n",
       "    }\n",
       "\n",
       "    .dataframe tbody tr th {\n",
       "        vertical-align: top;\n",
       "    }\n",
       "\n",
       "    .dataframe thead th {\n",
       "        text-align: right;\n",
       "    }\n",
       "</style>\n",
       "<table border=\"1\" class=\"dataframe\">\n",
       "  <thead>\n",
       "    <tr style=\"text-align: right;\">\n",
       "      <th></th>\n",
       "      <th>rank</th>\n",
       "      <th>Video</th>\n",
       "      <th>Video views</th>\n",
       "      <th>Likes</th>\n",
       "      <th>Dislikes</th>\n",
       "      <th>Category</th>\n",
       "      <th>published</th>\n",
       "    </tr>\n",
       "  </thead>\n",
       "  <tbody>\n",
       "    <tr>\n",
       "      <th>995</th>\n",
       "      <td>996</td>\n",
       "      <td>New Champ Kayn/Rhaast Leak for LOL (Moobeat cr...</td>\n",
       "      <td>847,249</td>\n",
       "      <td>1,857</td>\n",
       "      <td>173</td>\n",
       "      <td>People &amp; Blogs</td>\n",
       "      <td>2017</td>\n",
       "    </tr>\n",
       "    <tr>\n",
       "      <th>996</th>\n",
       "      <td>997</td>\n",
       "      <td>Ford Mustang Launch (street)</td>\n",
       "      <td>1,001,605</td>\n",
       "      <td>2,214</td>\n",
       "      <td>27</td>\n",
       "      <td>Autos &amp; Vehicles</td>\n",
       "      <td>2008</td>\n",
       "    </tr>\n",
       "    <tr>\n",
       "      <th>997</th>\n",
       "      <td>998</td>\n",
       "      <td>Eminem is gay - The Interview</td>\n",
       "      <td>2,718,939</td>\n",
       "      <td>43,492</td>\n",
       "      <td>0</td>\n",
       "      <td>Entertainment</td>\n",
       "      <td>2014</td>\n",
       "    </tr>\n",
       "    <tr>\n",
       "      <th>998</th>\n",
       "      <td>999</td>\n",
       "      <td>Yakuza OST - Baka Mitai (ばかみたい) Kiryu full ver...</td>\n",
       "      <td>52,890,986</td>\n",
       "      <td>850,425</td>\n",
       "      <td>0</td>\n",
       "      <td>Gaming</td>\n",
       "      <td>2017</td>\n",
       "    </tr>\n",
       "    <tr>\n",
       "      <th>999</th>\n",
       "      <td>1000</td>\n",
       "      <td>What a Twist #memes #shorts #movie</td>\n",
       "      <td>11,637,337</td>\n",
       "      <td>938,043</td>\n",
       "      <td>NaN</td>\n",
       "      <td>Gaming</td>\n",
       "      <td>2024</td>\n",
       "    </tr>\n",
       "  </tbody>\n",
       "</table>\n",
       "</div>"
      ],
      "text/plain": [
       "     rank                                              Video Video views  \\\n",
       "995   996  New Champ Kayn/Rhaast Leak for LOL (Moobeat cr...     847,249   \n",
       "996   997                       Ford Mustang Launch (street)   1,001,605   \n",
       "997   998                      Eminem is gay - The Interview   2,718,939   \n",
       "998   999  Yakuza OST - Baka Mitai (ばかみたい) Kiryu full ver...  52,890,986   \n",
       "999  1000                 What a Twist #memes #shorts #movie  11,637,337   \n",
       "\n",
       "       Likes Dislikes          Category  published  \n",
       "995    1,857      173    People & Blogs       2017  \n",
       "996    2,214       27  Autos & Vehicles       2008  \n",
       "997   43,492        0     Entertainment       2014  \n",
       "998  850,425        0            Gaming       2017  \n",
       "999  938,043      NaN            Gaming       2024  "
      ]
     },
     "execution_count": 4,
     "metadata": {},
     "output_type": "execute_result"
    }
   ],
   "source": [
    "df.tail() # Verifying the last five elements of the data"
   ]
  },
  {
   "cell_type": "code",
   "execution_count": 5,
   "id": "c7d708bf",
   "metadata": {
    "execution": {
     "iopub.execute_input": "2025-02-11T22:50:27.199479Z",
     "iopub.status.busy": "2025-02-11T22:50:27.199086Z",
     "iopub.status.idle": "2025-02-11T22:50:27.231952Z",
     "shell.execute_reply": "2025-02-11T22:50:27.230855Z"
    },
    "papermill": {
     "duration": 0.040903,
     "end_time": "2025-02-11T22:50:27.233307",
     "exception": false,
     "start_time": "2025-02-11T22:50:27.192404",
     "status": "completed"
    },
    "tags": []
   },
   "outputs": [
    {
     "name": "stdout",
     "output_type": "stream",
     "text": [
      "<class 'pandas.core.frame.DataFrame'>\n",
      "RangeIndex: 1000 entries, 0 to 999\n",
      "Data columns (total 7 columns):\n",
      " #   Column       Non-Null Count  Dtype \n",
      "---  ------       --------------  ----- \n",
      " 0   rank         1000 non-null   int64 \n",
      " 1   Video        1000 non-null   object\n",
      " 2   Video views  1000 non-null   object\n",
      " 3   Likes        1000 non-null   object\n",
      " 4   Dislikes     527 non-null    object\n",
      " 5   Category     982 non-null    object\n",
      " 6   published    1000 non-null   int64 \n",
      "dtypes: int64(2), object(5)\n",
      "memory usage: 54.8+ KB\n"
     ]
    }
   ],
   "source": [
    "df.info() # Verifying how much categorical and numeric elements present in the data\n",
    "# Two elements type int and five type object "
   ]
  },
  {
   "cell_type": "markdown",
   "id": "c62d8752",
   "metadata": {
    "papermill": {
     "duration": 0.005596,
     "end_time": "2025-02-11T22:50:27.245081",
     "exception": false,
     "start_time": "2025-02-11T22:50:27.239485",
     "status": "completed"
    },
    "tags": []
   },
   "source": [
    "**REPLACE COLUMNS IN OBJECT FORMAT FOR FLOAT AND INTEGERS**"
   ]
  },
  {
   "cell_type": "code",
   "execution_count": 6,
   "id": "1d3f47c4",
   "metadata": {
    "execution": {
     "iopub.execute_input": "2025-02-11T22:50:27.257732Z",
     "iopub.status.busy": "2025-02-11T22:50:27.257404Z",
     "iopub.status.idle": "2025-02-11T22:50:27.262805Z",
     "shell.execute_reply": "2025-02-11T22:50:27.261931Z"
    },
    "papermill": {
     "duration": 0.013664,
     "end_time": "2025-02-11T22:50:27.264425",
     "exception": false,
     "start_time": "2025-02-11T22:50:27.250761",
     "status": "completed"
    },
    "tags": []
   },
   "outputs": [],
   "source": [
    "df['Video views'] = df['Video views'].str.replace(',', '').astype(float)"
   ]
  },
  {
   "cell_type": "code",
   "execution_count": 7,
   "id": "62e8a349",
   "metadata": {
    "execution": {
     "iopub.execute_input": "2025-02-11T22:50:27.282888Z",
     "iopub.status.busy": "2025-02-11T22:50:27.282488Z",
     "iopub.status.idle": "2025-02-11T22:50:27.289472Z",
     "shell.execute_reply": "2025-02-11T22:50:27.288514Z"
    },
    "papermill": {
     "duration": 0.017056,
     "end_time": "2025-02-11T22:50:27.291363",
     "exception": false,
     "start_time": "2025-02-11T22:50:27.274307",
     "status": "completed"
    },
    "tags": []
   },
   "outputs": [],
   "source": [
    "df['Likes'] = df['Likes'].str.replace(',', '').astype(float)"
   ]
  },
  {
   "cell_type": "code",
   "execution_count": 8,
   "id": "3b6f8519",
   "metadata": {
    "execution": {
     "iopub.execute_input": "2025-02-11T22:50:27.305387Z",
     "iopub.status.busy": "2025-02-11T22:50:27.305019Z",
     "iopub.status.idle": "2025-02-11T22:50:27.310668Z",
     "shell.execute_reply": "2025-02-11T22:50:27.309841Z"
    },
    "papermill": {
     "duration": 0.014096,
     "end_time": "2025-02-11T22:50:27.311925",
     "exception": false,
     "start_time": "2025-02-11T22:50:27.297829",
     "status": "completed"
    },
    "tags": []
   },
   "outputs": [],
   "source": [
    "df['Dislikes'] = df['Dislikes'].str.replace(',', '').astype(float)"
   ]
  },
  {
   "cell_type": "code",
   "execution_count": 9,
   "id": "ce077dc5",
   "metadata": {
    "execution": {
     "iopub.execute_input": "2025-02-11T22:50:27.324892Z",
     "iopub.status.busy": "2025-02-11T22:50:27.324571Z",
     "iopub.status.idle": "2025-02-11T22:50:27.333108Z",
     "shell.execute_reply": "2025-02-11T22:50:27.332281Z"
    },
    "papermill": {
     "duration": 0.016583,
     "end_time": "2025-02-11T22:50:27.334635",
     "exception": false,
     "start_time": "2025-02-11T22:50:27.318052",
     "status": "completed"
    },
    "tags": []
   },
   "outputs": [
    {
     "name": "stdout",
     "output_type": "stream",
     "text": [
      "<class 'pandas.core.frame.DataFrame'>\n",
      "RangeIndex: 1000 entries, 0 to 999\n",
      "Data columns (total 7 columns):\n",
      " #   Column       Non-Null Count  Dtype  \n",
      "---  ------       --------------  -----  \n",
      " 0   rank         1000 non-null   int64  \n",
      " 1   Video        1000 non-null   object \n",
      " 2   Video views  1000 non-null   float64\n",
      " 3   Likes        1000 non-null   float64\n",
      " 4   Dislikes     527 non-null    float64\n",
      " 5   Category     982 non-null    object \n",
      " 6   published    1000 non-null   int64  \n",
      "dtypes: float64(3), int64(2), object(2)\n",
      "memory usage: 54.8+ KB\n"
     ]
    }
   ],
   "source": [
    "# Verifying if the Dtype changed\n",
    "df.info() "
   ]
  },
  {
   "cell_type": "code",
   "execution_count": 10,
   "id": "7ea97b9f",
   "metadata": {
    "execution": {
     "iopub.execute_input": "2025-02-11T22:50:27.354531Z",
     "iopub.status.busy": "2025-02-11T22:50:27.354067Z",
     "iopub.status.idle": "2025-02-11T22:50:27.380002Z",
     "shell.execute_reply": "2025-02-11T22:50:27.379021Z"
    },
    "papermill": {
     "duration": 0.037192,
     "end_time": "2025-02-11T22:50:27.381497",
     "exception": false,
     "start_time": "2025-02-11T22:50:27.344305",
     "status": "completed"
    },
    "tags": []
   },
   "outputs": [
    {
     "data": {
      "text/html": [
       "<div>\n",
       "<style scoped>\n",
       "    .dataframe tbody tr th:only-of-type {\n",
       "        vertical-align: middle;\n",
       "    }\n",
       "\n",
       "    .dataframe tbody tr th {\n",
       "        vertical-align: top;\n",
       "    }\n",
       "\n",
       "    .dataframe thead th {\n",
       "        text-align: right;\n",
       "    }\n",
       "</style>\n",
       "<table border=\"1\" class=\"dataframe\">\n",
       "  <thead>\n",
       "    <tr style=\"text-align: right;\">\n",
       "      <th></th>\n",
       "      <th>rank</th>\n",
       "      <th>Video views</th>\n",
       "      <th>Likes</th>\n",
       "      <th>Dislikes</th>\n",
       "      <th>published</th>\n",
       "    </tr>\n",
       "  </thead>\n",
       "  <tbody>\n",
       "    <tr>\n",
       "      <th>count</th>\n",
       "      <td>1000.000000</td>\n",
       "      <td>1.000000e+03</td>\n",
       "      <td>1.000000e+03</td>\n",
       "      <td>527.000000</td>\n",
       "      <td>1000.000000</td>\n",
       "    </tr>\n",
       "    <tr>\n",
       "      <th>mean</th>\n",
       "      <td>500.500000</td>\n",
       "      <td>2.453435e+07</td>\n",
       "      <td>3.685451e+05</td>\n",
       "      <td>2322.324478</td>\n",
       "      <td>2019.100000</td>\n",
       "    </tr>\n",
       "    <tr>\n",
       "      <th>std</th>\n",
       "      <td>288.819436</td>\n",
       "      <td>2.512570e+08</td>\n",
       "      <td>1.629418e+06</td>\n",
       "      <td>9653.170360</td>\n",
       "      <td>5.384328</td>\n",
       "    </tr>\n",
       "    <tr>\n",
       "      <th>min</th>\n",
       "      <td>1.000000</td>\n",
       "      <td>4.493900e+04</td>\n",
       "      <td>4.330000e+02</td>\n",
       "      <td>0.000000</td>\n",
       "      <td>2005.000000</td>\n",
       "    </tr>\n",
       "    <tr>\n",
       "      <th>25%</th>\n",
       "      <td>250.750000</td>\n",
       "      <td>9.815690e+05</td>\n",
       "      <td>9.427250e+03</td>\n",
       "      <td>200.000000</td>\n",
       "      <td>2017.000000</td>\n",
       "    </tr>\n",
       "    <tr>\n",
       "      <th>50%</th>\n",
       "      <td>500.500000</td>\n",
       "      <td>2.341652e+06</td>\n",
       "      <td>3.026200e+04</td>\n",
       "      <td>477.000000</td>\n",
       "      <td>2021.000000</td>\n",
       "    </tr>\n",
       "    <tr>\n",
       "      <th>75%</th>\n",
       "      <td>750.250000</td>\n",
       "      <td>1.162638e+07</td>\n",
       "      <td>1.649858e+05</td>\n",
       "      <td>1469.000000</td>\n",
       "      <td>2024.000000</td>\n",
       "    </tr>\n",
       "    <tr>\n",
       "      <th>max</th>\n",
       "      <td>1000.000000</td>\n",
       "      <td>6.547981e+09</td>\n",
       "      <td>4.442854e+07</td>\n",
       "      <td>178042.000000</td>\n",
       "      <td>2025.000000</td>\n",
       "    </tr>\n",
       "  </tbody>\n",
       "</table>\n",
       "</div>"
      ],
      "text/plain": [
       "              rank   Video views         Likes       Dislikes    published\n",
       "count  1000.000000  1.000000e+03  1.000000e+03     527.000000  1000.000000\n",
       "mean    500.500000  2.453435e+07  3.685451e+05    2322.324478  2019.100000\n",
       "std     288.819436  2.512570e+08  1.629418e+06    9653.170360     5.384328\n",
       "min       1.000000  4.493900e+04  4.330000e+02       0.000000  2005.000000\n",
       "25%     250.750000  9.815690e+05  9.427250e+03     200.000000  2017.000000\n",
       "50%     500.500000  2.341652e+06  3.026200e+04     477.000000  2021.000000\n",
       "75%     750.250000  1.162638e+07  1.649858e+05    1469.000000  2024.000000\n",
       "max    1000.000000  6.547981e+09  4.442854e+07  178042.000000  2025.000000"
      ]
     },
     "execution_count": 10,
     "metadata": {},
     "output_type": "execute_result"
    }
   ],
   "source": [
    "df.describe() # Verifying if have any data above the expect"
   ]
  },
  {
   "cell_type": "code",
   "execution_count": 11,
   "id": "944c4b81",
   "metadata": {
    "execution": {
     "iopub.execute_input": "2025-02-11T22:50:27.395828Z",
     "iopub.status.busy": "2025-02-11T22:50:27.395420Z",
     "iopub.status.idle": "2025-02-11T22:50:27.401227Z",
     "shell.execute_reply": "2025-02-11T22:50:27.400338Z"
    },
    "papermill": {
     "duration": 0.014758,
     "end_time": "2025-02-11T22:50:27.402803",
     "exception": false,
     "start_time": "2025-02-11T22:50:27.388045",
     "status": "completed"
    },
    "tags": []
   },
   "outputs": [
    {
     "data": {
      "text/plain": [
       "(1000, 7)"
      ]
     },
     "execution_count": 11,
     "metadata": {},
     "output_type": "execute_result"
    }
   ],
   "source": [
    "df.shape # Verifying how much collumuns and lines have in the dataset"
   ]
  },
  {
   "cell_type": "code",
   "execution_count": 12,
   "id": "474b3932",
   "metadata": {
    "execution": {
     "iopub.execute_input": "2025-02-11T22:50:27.416798Z",
     "iopub.status.busy": "2025-02-11T22:50:27.416372Z",
     "iopub.status.idle": "2025-02-11T22:50:27.425252Z",
     "shell.execute_reply": "2025-02-11T22:50:27.423771Z"
    },
    "papermill": {
     "duration": 0.017413,
     "end_time": "2025-02-11T22:50:27.426685",
     "exception": false,
     "start_time": "2025-02-11T22:50:27.409272",
     "status": "completed"
    },
    "tags": []
   },
   "outputs": [
    {
     "data": {
      "text/plain": [
       "rank             0\n",
       "Video            0\n",
       "Video views      0\n",
       "Likes            0\n",
       "Dislikes       473\n",
       "Category        18\n",
       "published        0\n",
       "dtype: int64"
      ]
     },
     "execution_count": 12,
     "metadata": {},
     "output_type": "execute_result"
    }
   ],
   "source": [
    "df.isnull().sum() # Verifying if have null values in the dataset\n",
    "# Have null values in collumun Dislikes and in Category\n",
    "# Is necessary tratament those values"
   ]
  },
  {
   "cell_type": "code",
   "execution_count": 13,
   "id": "75322286",
   "metadata": {
    "execution": {
     "iopub.execute_input": "2025-02-11T22:50:27.441129Z",
     "iopub.status.busy": "2025-02-11T22:50:27.440795Z",
     "iopub.status.idle": "2025-02-11T22:50:27.448654Z",
     "shell.execute_reply": "2025-02-11T22:50:27.447525Z"
    },
    "papermill": {
     "duration": 0.017055,
     "end_time": "2025-02-11T22:50:27.450633",
     "exception": false,
     "start_time": "2025-02-11T22:50:27.433578",
     "status": "completed"
    },
    "tags": []
   },
   "outputs": [
    {
     "data": {
      "text/plain": [
       "0"
      ]
     },
     "execution_count": 13,
     "metadata": {},
     "output_type": "execute_result"
    }
   ],
   "source": [
    "df.duplicated().sum() # Verifying if have any duplicated value in the dataset"
   ]
  },
  {
   "cell_type": "markdown",
   "id": "5307baf9",
   "metadata": {
    "papermill": {
     "duration": 0.006082,
     "end_time": "2025-02-11T22:50:27.463303",
     "exception": false,
     "start_time": "2025-02-11T22:50:27.457221",
     "status": "completed"
    },
    "tags": []
   },
   "source": [
    "**ANALISYS OF THE NUMERIC DATA**"
   ]
  },
  {
   "cell_type": "code",
   "execution_count": 14,
   "id": "191d3f9e",
   "metadata": {
    "execution": {
     "iopub.execute_input": "2025-02-11T22:50:27.476921Z",
     "iopub.status.busy": "2025-02-11T22:50:27.476564Z",
     "iopub.status.idle": "2025-02-11T22:50:27.701743Z",
     "shell.execute_reply": "2025-02-11T22:50:27.700848Z"
    },
    "papermill": {
     "duration": 0.233685,
     "end_time": "2025-02-11T22:50:27.702984",
     "exception": false,
     "start_time": "2025-02-11T22:50:27.469299",
     "status": "completed"
    },
    "tags": []
   },
   "outputs": [
    {
     "data": {
      "text/plain": [
       "[Text(0.5, 1.0, 'Video views boxplot')]"
      ]
     },
     "execution_count": 14,
     "metadata": {},
     "output_type": "execute_result"
    },
    {
     "data": {
      "image/png": "[encoded data removed]",
      "text/plain": [
       "<Figure size 640x480 with 1 Axes>"
      ]
     },
     "metadata": {},
     "output_type": "display_data"
    }
   ],
   "source": [
    "# Verifying the boxplot, many values above the median.\n",
    "sns.boxplot(df['Video views']).set(title = 'Video views boxplot')"
   ]
  },
  {
   "cell_type": "code",
   "execution_count": 15,
   "id": "a021f7de",
   "metadata": {
    "execution": {
     "iopub.execute_input": "2025-02-11T22:50:27.717404Z",
     "iopub.status.busy": "2025-02-11T22:50:27.717078Z",
     "iopub.status.idle": "2025-02-11T22:50:27.942439Z",
     "shell.execute_reply": "2025-02-11T22:50:27.941472Z"
    },
    "papermill": {
     "duration": 0.234032,
     "end_time": "2025-02-11T22:50:27.943820",
     "exception": false,
     "start_time": "2025-02-11T22:50:27.709788",
     "status": "completed"
    },
    "tags": []
   },
   "outputs": [
    {
     "name": "stderr",
     "output_type": "stream",
     "text": [
      "/usr/local/lib/python3.10/dist-packages/seaborn/_oldcore.py:1119: FutureWarning: use_inf_as_na option is deprecated and will be removed in a future version. Convert inf values to NaN before operating instead.\n",
      "  with pd.option_context('mode.use_inf_as_na', True):\n"
     ]
    },
    {
     "data": {
      "text/plain": [
       "[Text(0.5, 1.0, 'Video views Histplot')]"
      ]
     },
     "execution_count": 15,
     "metadata": {},
     "output_type": "execute_result"
    },
    {
     "data": {
      "image/png": "[encoded data removed]",
      "text/plain": [
       "<Figure size 640x480 with 1 Axes>"
      ]
     },
     "metadata": {},
     "output_type": "display_data"
    }
   ],
   "source": [
    "# Verifying the histplot graph to view the distribution of the data\n",
    "sns.histplot(df['Video views'], kde = True, bins = 6, color = 'blue').set(title='Video views Histplot')"
   ]
  },
  {
   "cell_type": "code",
   "execution_count": 16,
   "id": "e9860211",
   "metadata": {
    "execution": {
     "iopub.execute_input": "2025-02-11T22:50:27.960136Z",
     "iopub.status.busy": "2025-02-11T22:50:27.959818Z",
     "iopub.status.idle": "2025-02-11T22:50:28.052958Z",
     "shell.execute_reply": "2025-02-11T22:50:28.052138Z"
    },
    "papermill": {
     "duration": 0.102511,
     "end_time": "2025-02-11T22:50:28.054188",
     "exception": false,
     "start_time": "2025-02-11T22:50:27.951677",
     "status": "completed"
    },
    "tags": []
   },
   "outputs": [
    {
     "data": {
      "text/plain": [
       "<Axes: >"
      ]
     },
     "execution_count": 16,
     "metadata": {},
     "output_type": "execute_result"
    },
    {
     "data": {
      "image/png": "[encoded data removed]",
      "text/plain": [
       "<Figure size 640x480 with 1 Axes>"
      ]
     },
     "metadata": {},
     "output_type": "display_data"
    }
   ],
   "source": [
    "sns.boxplot(df['Likes'])"
   ]
  },
  {
   "cell_type": "code",
   "execution_count": 17,
   "id": "ff8f2bfb",
   "metadata": {
    "execution": {
     "iopub.execute_input": "2025-02-11T22:50:28.070221Z",
     "iopub.status.busy": "2025-02-11T22:50:28.069870Z",
     "iopub.status.idle": "2025-02-11T22:50:28.253235Z",
     "shell.execute_reply": "2025-02-11T22:50:28.251856Z"
    },
    "papermill": {
     "duration": 0.193093,
     "end_time": "2025-02-11T22:50:28.254851",
     "exception": false,
     "start_time": "2025-02-11T22:50:28.061758",
     "status": "completed"
    },
    "tags": []
   },
   "outputs": [
    {
     "name": "stderr",
     "output_type": "stream",
     "text": [
      "/usr/local/lib/python3.10/dist-packages/seaborn/_oldcore.py:1119: FutureWarning: use_inf_as_na option is deprecated and will be removed in a future version. Convert inf values to NaN before operating instead.\n",
      "  with pd.option_context('mode.use_inf_as_na', True):\n"
     ]
    },
    {
     "data": {
      "text/plain": [
       "[Text(0.5, 1.0, 'Likes histplot')]"
      ]
     },
     "execution_count": 17,
     "metadata": {},
     "output_type": "execute_result"
    },
    {
     "data": {
      "image/png": "[encoded data removed]",
      "text/plain": [
       "<Figure size 640x480 with 1 Axes>"
      ]
     },
     "metadata": {},
     "output_type": "display_data"
    }
   ],
   "source": [
    "sns.histplot(df['Likes'], kde = True, bins = 6, color = 'blue').set(title='Likes histplot')"
   ]
  },
  {
   "cell_type": "code",
   "execution_count": 18,
   "id": "3183fc41",
   "metadata": {
    "execution": {
     "iopub.execute_input": "2025-02-11T22:50:28.271601Z",
     "iopub.status.busy": "2025-02-11T22:50:28.271211Z",
     "iopub.status.idle": "2025-02-11T22:50:28.384195Z",
     "shell.execute_reply": "2025-02-11T22:50:28.383079Z"
    },
    "papermill": {
     "duration": 0.12331,
     "end_time": "2025-02-11T22:50:28.386086",
     "exception": false,
     "start_time": "2025-02-11T22:50:28.262776",
     "status": "completed"
    },
    "tags": []
   },
   "outputs": [
    {
     "data": {
      "text/plain": [
       "<Axes: >"
      ]
     },
     "execution_count": 18,
     "metadata": {},
     "output_type": "execute_result"
    },
    {
     "data": {
      "image/png": "[encoded data removed]",
      "text/plain": [
       "<Figure size 640x480 with 1 Axes>"
      ]
     },
     "metadata": {},
     "output_type": "display_data"
    }
   ],
   "source": [
    "# Analisys of the column Dislikes, the biggest value and finding the null values\n",
    "sns.boxplot(df['Dislikes'])"
   ]
  },
  {
   "cell_type": "code",
   "execution_count": 19,
   "id": "0290ee69",
   "metadata": {
    "execution": {
     "iopub.execute_input": "2025-02-11T22:50:28.404255Z",
     "iopub.status.busy": "2025-02-11T22:50:28.403935Z",
     "iopub.status.idle": "2025-02-11T22:50:28.588756Z",
     "shell.execute_reply": "2025-02-11T22:50:28.587780Z"
    },
    "papermill": {
     "duration": 0.195517,
     "end_time": "2025-02-11T22:50:28.590357",
     "exception": false,
     "start_time": "2025-02-11T22:50:28.394840",
     "status": "completed"
    },
    "tags": []
   },
   "outputs": [
    {
     "name": "stderr",
     "output_type": "stream",
     "text": [
      "/usr/local/lib/python3.10/dist-packages/seaborn/_oldcore.py:1119: FutureWarning: use_inf_as_na option is deprecated and will be removed in a future version. Convert inf values to NaN before operating instead.\n",
      "  with pd.option_context('mode.use_inf_as_na', True):\n"
     ]
    },
    {
     "data": {
      "text/plain": [
       "<Axes: xlabel='Dislikes', ylabel='Count'>"
      ]
     },
     "execution_count": 19,
     "metadata": {},
     "output_type": "execute_result"
    },
    {
     "data": {
      "image/png": "[encoded data removed]",
      "text/plain": [
       "<Figure size 640x480 with 1 Axes>"
      ]
     },
     "metadata": {},
     "output_type": "display_data"
    }
   ],
   "source": [
    "sns.histplot(df['Dislikes'], kde = True, bins = 6, color = 'blue')"
   ]
  },
  {
   "cell_type": "code",
   "execution_count": 20,
   "id": "4f7b30a4",
   "metadata": {
    "execution": {
     "iopub.execute_input": "2025-02-11T22:50:28.609153Z",
     "iopub.status.busy": "2025-02-11T22:50:28.608782Z",
     "iopub.status.idle": "2025-02-11T22:50:28.628429Z",
     "shell.execute_reply": "2025-02-11T22:50:28.627214Z"
    },
    "papermill": {
     "duration": 0.030518,
     "end_time": "2025-02-11T22:50:28.629689",
     "exception": false,
     "start_time": "2025-02-11T22:50:28.599171",
     "status": "completed"
    },
    "tags": []
   },
   "outputs": [
    {
     "name": "stderr",
     "output_type": "stream",
     "text": [
      "/usr/local/lib/python3.10/dist-packages/pandas/io/formats/format.py:1458: RuntimeWarning: invalid value encountered in greater\n",
      "  has_large_values = (abs_vals > 1e6).any()\n",
      "/usr/local/lib/python3.10/dist-packages/pandas/io/formats/format.py:1459: RuntimeWarning: invalid value encountered in less\n",
      "  has_small_values = ((abs_vals < 10 ** (-self.digits)) & (abs_vals > 0)).any()\n",
      "/usr/local/lib/python3.10/dist-packages/pandas/io/formats/format.py:1459: RuntimeWarning: invalid value encountered in greater\n",
      "  has_small_values = ((abs_vals < 10 ** (-self.digits)) & (abs_vals > 0)).any()\n"
     ]
    },
    {
     "data": {
      "text/html": [
       "<div>\n",
       "<style scoped>\n",
       "    .dataframe tbody tr th:only-of-type {\n",
       "        vertical-align: middle;\n",
       "    }\n",
       "\n",
       "    .dataframe tbody tr th {\n",
       "        vertical-align: top;\n",
       "    }\n",
       "\n",
       "    .dataframe thead th {\n",
       "        text-align: right;\n",
       "    }\n",
       "</style>\n",
       "<table border=\"1\" class=\"dataframe\">\n",
       "  <thead>\n",
       "    <tr style=\"text-align: right;\">\n",
       "      <th></th>\n",
       "      <th>rank</th>\n",
       "      <th>Video</th>\n",
       "      <th>Video views</th>\n",
       "      <th>Likes</th>\n",
       "      <th>Dislikes</th>\n",
       "      <th>Category</th>\n",
       "      <th>published</th>\n",
       "    </tr>\n",
       "  </thead>\n",
       "  <tbody>\n",
       "    <tr>\n",
       "      <th>2</th>\n",
       "      <td>3</td>\n",
       "      <td>JoJo Siwa - Karma (Official Video)</td>\n",
       "      <td>3.420675e+07</td>\n",
       "      <td>293563.0</td>\n",
       "      <td>NaN</td>\n",
       "      <td>Music</td>\n",
       "      <td>2024</td>\n",
       "    </tr>\n",
       "    <tr>\n",
       "      <th>3</th>\n",
       "      <td>4</td>\n",
       "      <td>David Kushner - Daylight (Official Music Video)</td>\n",
       "      <td>1.855839e+07</td>\n",
       "      <td>680732.0</td>\n",
       "      <td>NaN</td>\n",
       "      <td>Music</td>\n",
       "      <td>2023</td>\n",
       "    </tr>\n",
       "    <tr>\n",
       "      <th>4</th>\n",
       "      <td>5</td>\n",
       "      <td>Wiz Khalifa - See You Again ft. Charlie Puth [...</td>\n",
       "      <td>6.547981e+09</td>\n",
       "      <td>44428537.0</td>\n",
       "      <td>NaN</td>\n",
       "      <td>Music</td>\n",
       "      <td>2015</td>\n",
       "    </tr>\n",
       "    <tr>\n",
       "      <th>6</th>\n",
       "      <td>7</td>\n",
       "      <td>JENNIE - ZEN (RUBY ALBUM MARCH 7)</td>\n",
       "      <td>8.306465e+06</td>\n",
       "      <td>1261577.0</td>\n",
       "      <td>NaN</td>\n",
       "      <td>Music</td>\n",
       "      <td>2025</td>\n",
       "    </tr>\n",
       "    <tr>\n",
       "      <th>8</th>\n",
       "      <td>9</td>\n",
       "      <td>Yovie Widianto, Lyodra, Tiara Andini, Ziva Mag...</td>\n",
       "      <td>1.389490e+07</td>\n",
       "      <td>452087.0</td>\n",
       "      <td>NaN</td>\n",
       "      <td>Music</td>\n",
       "      <td>2023</td>\n",
       "    </tr>\n",
       "    <tr>\n",
       "      <th>...</th>\n",
       "      <td>...</td>\n",
       "      <td>...</td>\n",
       "      <td>...</td>\n",
       "      <td>...</td>\n",
       "      <td>...</td>\n",
       "      <td>...</td>\n",
       "      <td>...</td>\n",
       "    </tr>\n",
       "    <tr>\n",
       "      <th>990</th>\n",
       "      <td>991</td>\n",
       "      <td>Please tell me I did a good job 🥹❤️ #art</td>\n",
       "      <td>1.431007e+07</td>\n",
       "      <td>801435.0</td>\n",
       "      <td>NaN</td>\n",
       "      <td>People &amp; Blogs</td>\n",
       "      <td>2024</td>\n",
       "    </tr>\n",
       "    <tr>\n",
       "      <th>991</th>\n",
       "      <td>992</td>\n",
       "      <td>“I know what I’m doing.” Famous last words! | ...</td>\n",
       "      <td>6.499230e+07</td>\n",
       "      <td>1615193.0</td>\n",
       "      <td>NaN</td>\n",
       "      <td>Film &amp; Animation</td>\n",
       "      <td>2024</td>\n",
       "    </tr>\n",
       "    <tr>\n",
       "      <th>992</th>\n",
       "      <td>993</td>\n",
       "      <td>Samsung mocking Apple 😂💀 #blowup #apple #samsu...</td>\n",
       "      <td>3.550869e+07</td>\n",
       "      <td>2324673.0</td>\n",
       "      <td>NaN</td>\n",
       "      <td>People &amp; Blogs</td>\n",
       "      <td>2024</td>\n",
       "    </tr>\n",
       "    <tr>\n",
       "      <th>993</th>\n",
       "      <td>994</td>\n",
       "      <td>다이소에서 산 장난감</td>\n",
       "      <td>2.975425e+07</td>\n",
       "      <td>960096.0</td>\n",
       "      <td>NaN</td>\n",
       "      <td>Pets &amp; Animals</td>\n",
       "      <td>2025</td>\n",
       "    </tr>\n",
       "    <tr>\n",
       "      <th>999</th>\n",
       "      <td>1000</td>\n",
       "      <td>What a Twist #memes #shorts #movie</td>\n",
       "      <td>1.163734e+07</td>\n",
       "      <td>938043.0</td>\n",
       "      <td>NaN</td>\n",
       "      <td>Gaming</td>\n",
       "      <td>2024</td>\n",
       "    </tr>\n",
       "  </tbody>\n",
       "</table>\n",
       "<p>473 rows × 7 columns</p>\n",
       "</div>"
      ],
      "text/plain": [
       "     rank                                              Video   Video views  \\\n",
       "2       3                 JoJo Siwa - Karma (Official Video)  3.420675e+07   \n",
       "3       4    David Kushner - Daylight (Official Music Video)  1.855839e+07   \n",
       "4       5  Wiz Khalifa - See You Again ft. Charlie Puth [...  6.547981e+09   \n",
       "6       7                  JENNIE - ZEN (RUBY ALBUM MARCH 7)  8.306465e+06   \n",
       "8       9  Yovie Widianto, Lyodra, Tiara Andini, Ziva Mag...  1.389490e+07   \n",
       "..    ...                                                ...           ...   \n",
       "990   991           Please tell me I did a good job 🥹❤️ #art  1.431007e+07   \n",
       "991   992  “I know what I’m doing.” Famous last words! | ...  6.499230e+07   \n",
       "992   993  Samsung mocking Apple 😂💀 #blowup #apple #samsu...  3.550869e+07   \n",
       "993   994                                        다이소에서 산 장난감  2.975425e+07   \n",
       "999  1000                 What a Twist #memes #shorts #movie  1.163734e+07   \n",
       "\n",
       "          Likes  Dislikes          Category  published  \n",
       "2      293563.0       NaN             Music       2024  \n",
       "3      680732.0       NaN             Music       2023  \n",
       "4    44428537.0       NaN             Music       2015  \n",
       "6     1261577.0       NaN             Music       2025  \n",
       "8      452087.0       NaN             Music       2023  \n",
       "..          ...       ...               ...        ...  \n",
       "990    801435.0       NaN    People & Blogs       2024  \n",
       "991   1615193.0       NaN  Film & Animation       2024  \n",
       "992   2324673.0       NaN    People & Blogs       2024  \n",
       "993    960096.0       NaN    Pets & Animals       2025  \n",
       "999    938043.0       NaN            Gaming       2024  \n",
       "\n",
       "[473 rows x 7 columns]"
      ]
     },
     "execution_count": 20,
     "metadata": {},
     "output_type": "execute_result"
    }
   ],
   "source": [
    "df.loc[df['Dislikes'].isnull()]"
   ]
  },
  {
   "cell_type": "code",
   "execution_count": 21,
   "id": "2d0ab42d",
   "metadata": {
    "execution": {
     "iopub.execute_input": "2025-02-11T22:50:28.649180Z",
     "iopub.status.busy": "2025-02-11T22:50:28.648869Z",
     "iopub.status.idle": "2025-02-11T22:50:28.656557Z",
     "shell.execute_reply": "2025-02-11T22:50:28.655152Z"
    },
    "papermill": {
     "duration": 0.019468,
     "end_time": "2025-02-11T22:50:28.658459",
     "exception": false,
     "start_time": "2025-02-11T22:50:28.638991",
     "status": "completed"
    },
    "tags": []
   },
   "outputs": [
    {
     "data": {
      "text/plain": [
       "Category\n",
       "Music                    431\n",
       "People & Blogs           257\n",
       "Entertainment             81\n",
       "Comedy                    53\n",
       "Sports                    35\n",
       "Film & Animation          29\n",
       "Gaming                    22\n",
       "Autos & Vehicles          19\n",
       "Pets & Animals            18\n",
       "News & Politics           14\n",
       "Education                  5\n",
       "Nonprofits & Activism      5\n",
       "Science & Technology       5\n",
       "Howto & Style              4\n",
       "Travel & Events            4\n",
       "dtype: int64"
      ]
     },
     "execution_count": 21,
     "metadata": {},
     "output_type": "execute_result"
    }
   ],
   "source": [
    "# Analisys of the column Category, the biggest value and finding the null values\n",
    "group = df.groupby('Category').size().sort_values(ascending=False)\n",
    "group"
   ]
  },
  {
   "cell_type": "code",
   "execution_count": 22,
   "id": "c1127386",
   "metadata": {
    "execution": {
     "iopub.execute_input": "2025-02-11T22:50:28.679620Z",
     "iopub.status.busy": "2025-02-11T22:50:28.679258Z",
     "iopub.status.idle": "2025-02-11T22:50:28.692930Z",
     "shell.execute_reply": "2025-02-11T22:50:28.691571Z"
    },
    "papermill": {
     "duration": 0.025306,
     "end_time": "2025-02-11T22:50:28.694127",
     "exception": false,
     "start_time": "2025-02-11T22:50:28.668821",
     "status": "completed"
    },
    "tags": []
   },
   "outputs": [
    {
     "name": "stderr",
     "output_type": "stream",
     "text": [
      "/usr/local/lib/python3.10/dist-packages/pandas/io/formats/format.py:1458: RuntimeWarning: invalid value encountered in greater\n",
      "  has_large_values = (abs_vals > 1e6).any()\n",
      "/usr/local/lib/python3.10/dist-packages/pandas/io/formats/format.py:1459: RuntimeWarning: invalid value encountered in less\n",
      "  has_small_values = ((abs_vals < 10 ** (-self.digits)) & (abs_vals > 0)).any()\n",
      "/usr/local/lib/python3.10/dist-packages/pandas/io/formats/format.py:1459: RuntimeWarning: invalid value encountered in greater\n",
      "  has_small_values = ((abs_vals < 10 ** (-self.digits)) & (abs_vals > 0)).any()\n"
     ]
    },
    {
     "data": {
      "text/html": [
       "<div>\n",
       "<style scoped>\n",
       "    .dataframe tbody tr th:only-of-type {\n",
       "        vertical-align: middle;\n",
       "    }\n",
       "\n",
       "    .dataframe tbody tr th {\n",
       "        vertical-align: top;\n",
       "    }\n",
       "\n",
       "    .dataframe thead th {\n",
       "        text-align: right;\n",
       "    }\n",
       "</style>\n",
       "<table border=\"1\" class=\"dataframe\">\n",
       "  <thead>\n",
       "    <tr style=\"text-align: right;\">\n",
       "      <th></th>\n",
       "      <th>rank</th>\n",
       "      <th>Video</th>\n",
       "      <th>Video views</th>\n",
       "      <th>Likes</th>\n",
       "      <th>Dislikes</th>\n",
       "      <th>Category</th>\n",
       "      <th>published</th>\n",
       "    </tr>\n",
       "  </thead>\n",
       "  <tbody>\n",
       "    <tr>\n",
       "      <th>1</th>\n",
       "      <td>2</td>\n",
       "      <td>20 Tennis shots if they were not filmed, NOBOD...</td>\n",
       "      <td>3471237.0</td>\n",
       "      <td>19023.0</td>\n",
       "      <td>859.0</td>\n",
       "      <td>NaN</td>\n",
       "      <td>2017</td>\n",
       "    </tr>\n",
       "    <tr>\n",
       "      <th>109</th>\n",
       "      <td>110</td>\n",
       "      <td>ILLENIUM, Jon Bellion - Good Things Fall Apart</td>\n",
       "      <td>10358663.0</td>\n",
       "      <td>169009.0</td>\n",
       "      <td>3138.0</td>\n",
       "      <td>NaN</td>\n",
       "      <td>2019</td>\n",
       "    </tr>\n",
       "    <tr>\n",
       "      <th>257</th>\n",
       "      <td>258</td>\n",
       "      <td>Bryan Behr - De Todos Os Amores</td>\n",
       "      <td>684366.0</td>\n",
       "      <td>12586.0</td>\n",
       "      <td>35.0</td>\n",
       "      <td>NaN</td>\n",
       "      <td>2020</td>\n",
       "    </tr>\n",
       "    <tr>\n",
       "      <th>302</th>\n",
       "      <td>303</td>\n",
       "      <td>Танк Армата</td>\n",
       "      <td>3954302.0</td>\n",
       "      <td>4636.0</td>\n",
       "      <td>1033.0</td>\n",
       "      <td>NaN</td>\n",
       "      <td>2015</td>\n",
       "    </tr>\n",
       "    <tr>\n",
       "      <th>318</th>\n",
       "      <td>319</td>\n",
       "      <td>A Needed Response</td>\n",
       "      <td>11622727.0</td>\n",
       "      <td>39804.0</td>\n",
       "      <td>1872.0</td>\n",
       "      <td>NaN</td>\n",
       "      <td>2013</td>\n",
       "    </tr>\n",
       "    <tr>\n",
       "      <th>322</th>\n",
       "      <td>323</td>\n",
       "      <td>perfekte welle</td>\n",
       "      <td>2337888.0</td>\n",
       "      <td>4430.0</td>\n",
       "      <td>174.0</td>\n",
       "      <td>NaN</td>\n",
       "      <td>2005</td>\n",
       "    </tr>\n",
       "    <tr>\n",
       "      <th>342</th>\n",
       "      <td>343</td>\n",
       "      <td>westerland</td>\n",
       "      <td>5289591.0</td>\n",
       "      <td>8542.0</td>\n",
       "      <td>269.0</td>\n",
       "      <td>NaN</td>\n",
       "      <td>2006</td>\n",
       "    </tr>\n",
       "    <tr>\n",
       "      <th>349</th>\n",
       "      <td>350</td>\n",
       "      <td>Phoenix - Lisztomania - Boston University Brat...</td>\n",
       "      <td>3824693.0</td>\n",
       "      <td>15236.0</td>\n",
       "      <td>858.0</td>\n",
       "      <td>NaN</td>\n",
       "      <td>2010</td>\n",
       "    </tr>\n",
       "    <tr>\n",
       "      <th>364</th>\n",
       "      <td>365</td>\n",
       "      <td>Rels B, Morad - NO TE IMAGINAS</td>\n",
       "      <td>2930422.0</td>\n",
       "      <td>124350.0</td>\n",
       "      <td>2668.0</td>\n",
       "      <td>NaN</td>\n",
       "      <td>2020</td>\n",
       "    </tr>\n",
       "    <tr>\n",
       "      <th>371</th>\n",
       "      <td>372</td>\n",
       "      <td>#joerogan #jre #cooking #steak</td>\n",
       "      <td>1709040.0</td>\n",
       "      <td>64601.0</td>\n",
       "      <td>NaN</td>\n",
       "      <td>NaN</td>\n",
       "      <td>2023</td>\n",
       "    </tr>\n",
       "    <tr>\n",
       "      <th>436</th>\n",
       "      <td>437</td>\n",
       "      <td>Encuentra POP Queso Cheddar.</td>\n",
       "      <td>21786732.0</td>\n",
       "      <td>7102.0</td>\n",
       "      <td>NaN</td>\n",
       "      <td>NaN</td>\n",
       "      <td>2023</td>\n",
       "    </tr>\n",
       "    <tr>\n",
       "      <th>631</th>\n",
       "      <td>632</td>\n",
       "      <td>Pop Smoke - Snitching (Audio) ft. Quavo, Future</td>\n",
       "      <td>3610348.0</td>\n",
       "      <td>109734.0</td>\n",
       "      <td>1470.0</td>\n",
       "      <td>NaN</td>\n",
       "      <td>2020</td>\n",
       "    </tr>\n",
       "    <tr>\n",
       "      <th>667</th>\n",
       "      <td>668</td>\n",
       "      <td>Pop Smoke - Something Special (Audio)</td>\n",
       "      <td>1569123.0</td>\n",
       "      <td>62866.0</td>\n",
       "      <td>369.0</td>\n",
       "      <td>NaN</td>\n",
       "      <td>2020</td>\n",
       "    </tr>\n",
       "    <tr>\n",
       "      <th>741</th>\n",
       "      <td>742</td>\n",
       "      <td>Vitalik Buterin: This is time to go all in. Et...</td>\n",
       "      <td>1861646.0</td>\n",
       "      <td>22354.0</td>\n",
       "      <td>332.0</td>\n",
       "      <td>NaN</td>\n",
       "      <td>2021</td>\n",
       "    </tr>\n",
       "    <tr>\n",
       "      <th>790</th>\n",
       "      <td>791</td>\n",
       "      <td>Borat - Throw the Jew Down the Well!!</td>\n",
       "      <td>14780300.0</td>\n",
       "      <td>113914.0</td>\n",
       "      <td>5175.0</td>\n",
       "      <td>NaN</td>\n",
       "      <td>2006</td>\n",
       "    </tr>\n",
       "    <tr>\n",
       "      <th>830</th>\n",
       "      <td>831</td>\n",
       "      <td>Pop Smoke - Gangstas</td>\n",
       "      <td>6522744.0</td>\n",
       "      <td>127566.0</td>\n",
       "      <td>1390.0</td>\n",
       "      <td>NaN</td>\n",
       "      <td>2020</td>\n",
       "    </tr>\n",
       "    <tr>\n",
       "      <th>832</th>\n",
       "      <td>833</td>\n",
       "      <td>Jessie J 'Domino' [HIT SINGLE] Official Lyric ...</td>\n",
       "      <td>14378553.0</td>\n",
       "      <td>29600.0</td>\n",
       "      <td>779.0</td>\n",
       "      <td>NaN</td>\n",
       "      <td>2011</td>\n",
       "    </tr>\n",
       "    <tr>\n",
       "      <th>977</th>\n",
       "      <td>978</td>\n",
       "      <td>ECKO - MUJER (Official Video)</td>\n",
       "      <td>1611367.0</td>\n",
       "      <td>73686.0</td>\n",
       "      <td>4244.0</td>\n",
       "      <td>NaN</td>\n",
       "      <td>2020</td>\n",
       "    </tr>\n",
       "  </tbody>\n",
       "</table>\n",
       "</div>"
      ],
      "text/plain": [
       "     rank                                              Video  Video views  \\\n",
       "1       2  20 Tennis shots if they were not filmed, NOBOD...    3471237.0   \n",
       "109   110     ILLENIUM, Jon Bellion - Good Things Fall Apart   10358663.0   \n",
       "257   258                    Bryan Behr - De Todos Os Amores     684366.0   \n",
       "302   303                                        Танк Армата    3954302.0   \n",
       "318   319                                  A Needed Response   11622727.0   \n",
       "322   323                                     perfekte welle    2337888.0   \n",
       "342   343                                         westerland    5289591.0   \n",
       "349   350  Phoenix - Lisztomania - Boston University Brat...    3824693.0   \n",
       "364   365                     Rels B, Morad - NO TE IMAGINAS    2930422.0   \n",
       "371   372                     #joerogan #jre #cooking #steak    1709040.0   \n",
       "436   437                       Encuentra POP Queso Cheddar.   21786732.0   \n",
       "631   632    Pop Smoke - Snitching (Audio) ft. Quavo, Future    3610348.0   \n",
       "667   668              Pop Smoke - Something Special (Audio)    1569123.0   \n",
       "741   742  Vitalik Buterin: This is time to go all in. Et...    1861646.0   \n",
       "790   791              Borat - Throw the Jew Down the Well!!   14780300.0   \n",
       "830   831                               Pop Smoke - Gangstas    6522744.0   \n",
       "832   833  Jessie J 'Domino' [HIT SINGLE] Official Lyric ...   14378553.0   \n",
       "977   978                      ECKO - MUJER (Official Video)    1611367.0   \n",
       "\n",
       "        Likes  Dislikes Category  published  \n",
       "1     19023.0     859.0      NaN       2017  \n",
       "109  169009.0    3138.0      NaN       2019  \n",
       "257   12586.0      35.0      NaN       2020  \n",
       "302    4636.0    1033.0      NaN       2015  \n",
       "318   39804.0    1872.0      NaN       2013  \n",
       "322    4430.0     174.0      NaN       2005  \n",
       "342    8542.0     269.0      NaN       2006  \n",
       "349   15236.0     858.0      NaN       2010  \n",
       "364  124350.0    2668.0      NaN       2020  \n",
       "371   64601.0       NaN      NaN       2023  \n",
       "436    7102.0       NaN      NaN       2023  \n",
       "631  109734.0    1470.0      NaN       2020  \n",
       "667   62866.0     369.0      NaN       2020  \n",
       "741   22354.0     332.0      NaN       2021  \n",
       "790  113914.0    5175.0      NaN       2006  \n",
       "830  127566.0    1390.0      NaN       2020  \n",
       "832   29600.0     779.0      NaN       2011  \n",
       "977   73686.0    4244.0      NaN       2020  "
      ]
     },
     "execution_count": 22,
     "metadata": {},
     "output_type": "execute_result"
    }
   ],
   "source": [
    "df.loc[df['Category'].isnull()]"
   ]
  },
  {
   "cell_type": "code",
   "execution_count": 23,
   "id": "c91137b3",
   "metadata": {
    "execution": {
     "iopub.execute_input": "2025-02-11T22:50:28.714406Z",
     "iopub.status.busy": "2025-02-11T22:50:28.713998Z",
     "iopub.status.idle": "2025-02-11T22:50:28.949929Z",
     "shell.execute_reply": "2025-02-11T22:50:28.948297Z"
    },
    "papermill": {
     "duration": 0.247807,
     "end_time": "2025-02-11T22:50:28.951511",
     "exception": false,
     "start_time": "2025-02-11T22:50:28.703704",
     "status": "completed"
    },
    "tags": []
   },
   "outputs": [
    {
     "name": "stderr",
     "output_type": "stream",
     "text": [
      "/usr/local/lib/python3.10/dist-packages/seaborn/_oldcore.py:1119: FutureWarning: use_inf_as_na option is deprecated and will be removed in a future version. Convert inf values to NaN before operating instead.\n",
      "  with pd.option_context('mode.use_inf_as_na', True):\n"
     ]
    },
    {
     "data": {
      "text/plain": [
       "[Text(0.5, 1.0, 'Category Histplot')]"
      ]
     },
     "execution_count": 23,
     "metadata": {},
     "output_type": "execute_result"
    },
    {
     "data": {
      "image/png": "[encoded data removed]",
      "text/plain": [
       "<Figure size 640x480 with 1 Axes>"
      ]
     },
     "metadata": {},
     "output_type": "display_data"
    }
   ],
   "source": [
    "sns.histplot(data = df, y = df['Category'], kde = True, bins = 6, color = 'red').set(title='Category Histplot')"
   ]
  },
  {
   "cell_type": "markdown",
   "id": "398ef245",
   "metadata": {
    "papermill": {
     "duration": 0.011173,
     "end_time": "2025-02-11T22:50:28.976699",
     "exception": false,
     "start_time": "2025-02-11T22:50:28.965526",
     "status": "completed"
    },
    "tags": []
   },
   "source": [
    "**TRATAMENT OF THE NULL VALUES USING USING THE MEDIAN AND MOST FREQUENTLY CATEGORY FOR REPLACE VALUE**"
   ]
  },
  {
   "cell_type": "code",
   "execution_count": 24,
   "id": "c00aa4df",
   "metadata": {
    "execution": {
     "iopub.execute_input": "2025-02-11T22:50:28.999106Z",
     "iopub.status.busy": "2025-02-11T22:50:28.998783Z",
     "iopub.status.idle": "2025-02-11T22:50:29.006175Z",
     "shell.execute_reply": "2025-02-11T22:50:29.004394Z"
    },
    "papermill": {
     "duration": 0.020473,
     "end_time": "2025-02-11T22:50:29.008076",
     "exception": false,
     "start_time": "2025-02-11T22:50:28.987603",
     "status": "completed"
    },
    "tags": []
   },
   "outputs": [
    {
     "data": {
      "text/plain": [
       "477.0"
      ]
     },
     "execution_count": 24,
     "metadata": {},
     "output_type": "execute_result"
    }
   ],
   "source": [
    "# Calculating the median of the dislikes \n",
    "median_dislike = df['Dislikes'].median()\n",
    "median_dislike"
   ]
  },
  {
   "cell_type": "code",
   "execution_count": 25,
   "id": "ddf495db",
   "metadata": {
    "execution": {
     "iopub.execute_input": "2025-02-11T22:50:29.029869Z",
     "iopub.status.busy": "2025-02-11T22:50:29.029569Z",
     "iopub.status.idle": "2025-02-11T22:50:29.034419Z",
     "shell.execute_reply": "2025-02-11T22:50:29.033307Z"
    },
    "papermill": {
     "duration": 0.017136,
     "end_time": "2025-02-11T22:50:29.035753",
     "exception": false,
     "start_time": "2025-02-11T22:50:29.018617",
     "status": "completed"
    },
    "tags": []
   },
   "outputs": [],
   "source": [
    "# Replacing in the null values for median\n",
    "df.fillna({'Dislikes' : median_dislike}, inplace = True)"
   ]
  },
  {
   "cell_type": "code",
   "execution_count": 26,
   "id": "4522491f",
   "metadata": {
    "execution": {
     "iopub.execute_input": "2025-02-11T22:50:29.057238Z",
     "iopub.status.busy": "2025-02-11T22:50:29.056957Z",
     "iopub.status.idle": "2025-02-11T22:50:29.062893Z",
     "shell.execute_reply": "2025-02-11T22:50:29.061703Z"
    },
    "papermill": {
     "duration": 0.018131,
     "end_time": "2025-02-11T22:50:29.064127",
     "exception": false,
     "start_time": "2025-02-11T22:50:29.045996",
     "status": "completed"
    },
    "tags": []
   },
   "outputs": [
    {
     "data": {
      "text/plain": [
       "0"
      ]
     },
     "execution_count": 26,
     "metadata": {},
     "output_type": "execute_result"
    }
   ],
   "source": [
    "# Verifying if not exist more null values in the Dislikes column\n",
    "df['Dislikes'].isnull().sum()"
   ]
  },
  {
   "cell_type": "code",
   "execution_count": 27,
   "id": "ebb12a93",
   "metadata": {
    "execution": {
     "iopub.execute_input": "2025-02-11T22:50:29.085078Z",
     "iopub.status.busy": "2025-02-11T22:50:29.084790Z",
     "iopub.status.idle": "2025-02-11T22:50:29.089433Z",
     "shell.execute_reply": "2025-02-11T22:50:29.088666Z"
    },
    "papermill": {
     "duration": 0.016983,
     "end_time": "2025-02-11T22:50:29.091086",
     "exception": false,
     "start_time": "2025-02-11T22:50:29.074103",
     "status": "completed"
    },
    "tags": []
   },
   "outputs": [],
   "source": [
    "# Replacing in the null values of the Category column to the category more frequent\n",
    "df.fillna({'Category' : 'Music'}, inplace = True)"
   ]
  },
  {
   "cell_type": "code",
   "execution_count": 28,
   "id": "a671ed57",
   "metadata": {
    "execution": {
     "iopub.execute_input": "2025-02-11T22:50:29.113780Z",
     "iopub.status.busy": "2025-02-11T22:50:29.113414Z",
     "iopub.status.idle": "2025-02-11T22:50:29.118906Z",
     "shell.execute_reply": "2025-02-11T22:50:29.117873Z"
    },
    "papermill": {
     "duration": 0.01827,
     "end_time": "2025-02-11T22:50:29.120380",
     "exception": false,
     "start_time": "2025-02-11T22:50:29.102110",
     "status": "completed"
    },
    "tags": []
   },
   "outputs": [
    {
     "data": {
      "text/plain": [
       "0"
      ]
     },
     "execution_count": 28,
     "metadata": {},
     "output_type": "execute_result"
    }
   ],
   "source": [
    "# Verifying if not exist more null values in the Category column\n",
    "df['Category'].isnull().sum()"
   ]
  },
  {
   "cell_type": "markdown",
   "id": "b4d1c044",
   "metadata": {
    "papermill": {
     "duration": 0.010486,
     "end_time": "2025-02-11T22:50:29.141690",
     "exception": false,
     "start_time": "2025-02-11T22:50:29.131204",
     "status": "completed"
    },
    "tags": []
   },
   "source": [
    "**VERIFYING ANOTHER INFOS USING THE COMMAND GROUPBY**"
   ]
  },
  {
   "cell_type": "code",
   "execution_count": 29,
   "id": "12805984",
   "metadata": {
    "execution": {
     "iopub.execute_input": "2025-02-11T22:50:29.164172Z",
     "iopub.status.busy": "2025-02-11T22:50:29.163768Z",
     "iopub.status.idle": "2025-02-11T22:50:29.174017Z",
     "shell.execute_reply": "2025-02-11T22:50:29.173221Z"
    },
    "papermill": {
     "duration": 0.023612,
     "end_time": "2025-02-11T22:50:29.175817",
     "exception": false,
     "start_time": "2025-02-11T22:50:29.152205",
     "status": "completed"
    },
    "tags": []
   },
   "outputs": [
    {
     "data": {
      "text/plain": [
       "published\n",
       "2005    5.388652e+06\n",
       "2006    2.527379e+08\n",
       "2007    3.358325e+08\n",
       "2008    2.668532e+08\n",
       "2009    1.106698e+08\n",
       "2010    4.490541e+07\n",
       "2011    1.902996e+08\n",
       "2012    6.965536e+07\n",
       "2013    1.048277e+08\n",
       "2014    1.530757e+08\n",
       "2015    6.607602e+09\n",
       "2016    1.576750e+08\n",
       "2017    2.960561e+08\n",
       "2018    4.100840e+09\n",
       "2019    4.730725e+09\n",
       "2020    9.095818e+07\n",
       "2021    1.139685e+08\n",
       "2022    1.706687e+08\n",
       "2023    8.528820e+08\n",
       "2024    4.772801e+09\n",
       "2025    1.105924e+09\n",
       "Name: Video views, dtype: float64"
      ]
     },
     "execution_count": 29,
     "metadata": {},
     "output_type": "execute_result"
    }
   ],
   "source": [
    "group_by_year_and_views = df.groupby('published')['Video views'].sum()\n",
    "group_by_year_and_views"
   ]
  },
  {
   "cell_type": "code",
   "execution_count": 30,
   "id": "a70afa86",
   "metadata": {
    "execution": {
     "iopub.execute_input": "2025-02-11T22:50:29.199077Z",
     "iopub.status.busy": "2025-02-11T22:50:29.198716Z",
     "iopub.status.idle": "2025-02-11T22:50:29.550308Z",
     "shell.execute_reply": "2025-02-11T22:50:29.549478Z"
    },
    "papermill": {
     "duration": 0.36489,
     "end_time": "2025-02-11T22:50:29.551848",
     "exception": false,
     "start_time": "2025-02-11T22:50:29.186958",
     "status": "completed"
    },
    "tags": []
   },
   "outputs": [
    {
     "data": {
      "image/png": "[encoded data removed]",
      "text/plain": [
       "<Figure size 640x480 with 1 Axes>"
      ]
     },
     "metadata": {},
     "output_type": "display_data"
    }
   ],
   "source": [
    "# Showing the calculation of the views per year through to graph\n",
    "group_by_year_and_views.plot(kind='bar',title = 'Views per year', color = '#219ebc')\n",
    "plt.xlabel('Published')\n",
    "plt.ylabel('Views')\n",
    "plt.show()"
   ]
  },
  {
   "cell_type": "code",
   "execution_count": 31,
   "id": "b35d29fd",
   "metadata": {
    "execution": {
     "iopub.execute_input": "2025-02-11T22:50:29.574908Z",
     "iopub.status.busy": "2025-02-11T22:50:29.574560Z",
     "iopub.status.idle": "2025-02-11T22:50:29.582844Z",
     "shell.execute_reply": "2025-02-11T22:50:29.581406Z"
    },
    "papermill": {
     "duration": 0.021907,
     "end_time": "2025-02-11T22:50:29.584606",
     "exception": false,
     "start_time": "2025-02-11T22:50:29.562699",
     "status": "completed"
    },
    "tags": []
   },
   "outputs": [
    {
     "data": {
      "text/plain": [
       "Category\n",
       "People & Blogs           141114842.0\n",
       "Music                    127172142.0\n",
       "Entertainment             38038916.0\n",
       "Film & Animation          17658369.0\n",
       "Sports                    13917184.0\n",
       "Gaming                     9503368.0\n",
       "Autos & Vehicles           6482119.0\n",
       "Travel & Events            2999533.0\n",
       "Howto & Style              2802331.0\n",
       "Comedy                     2711499.0\n",
       "Pets & Animals             2693752.0\n",
       "Science & Technology       2363819.0\n",
       "Education                   914747.0\n",
       "News & Politics             134638.0\n",
       "Nonprofits & Activism        37844.0\n",
       "Name: Likes, dtype: float64"
      ]
     },
     "execution_count": 31,
     "metadata": {},
     "output_type": "execute_result"
    }
   ],
   "source": [
    "group_by_like_and_category = df.groupby('Category')['Likes'].sum().sort_values(ascending=False)\n",
    "group_by_like_and_category"
   ]
  },
  {
   "cell_type": "code",
   "execution_count": 32,
   "id": "553cdec8",
   "metadata": {
    "execution": {
     "iopub.execute_input": "2025-02-11T22:50:29.608873Z",
     "iopub.status.busy": "2025-02-11T22:50:29.608528Z",
     "iopub.status.idle": "2025-02-11T22:50:29.800415Z",
     "shell.execute_reply": "2025-02-11T22:50:29.799621Z"
    },
    "papermill": {
     "duration": 0.205582,
     "end_time": "2025-02-11T22:50:29.802029",
     "exception": false,
     "start_time": "2025-02-11T22:50:29.596447",
     "status": "completed"
    },
    "tags": []
   },
   "outputs": [
    {
     "data": {
      "image/png": "[encoded data removed]",
      "text/plain": [
       "<Figure size 640x480 with 1 Axes>"
      ]
     },
     "metadata": {},
     "output_type": "display_data"
    }
   ],
   "source": [
    "# Verifying wich the most visualized categorys\n",
    "group_by_like_and_category.plot(kind='bar',title='Like per category',color='#219ebc')\n",
    "plt.xlabel('Category')\n",
    "plt.ylabel('Likes')\n",
    "plt.show()"
   ]
  },
  {
   "cell_type": "markdown",
   "id": "5e62e915",
   "metadata": {
    "papermill": {
     "duration": 0.012872,
     "end_time": "2025-02-11T22:50:29.827689",
     "exception": false,
     "start_time": "2025-02-11T22:50:29.814817",
     "status": "completed"
    },
    "tags": []
   },
   "source": [
    "**FINAL VISUALIZATION ON THE CORRECTED DATASET**"
   ]
  },
  {
   "cell_type": "code",
   "execution_count": 33,
   "id": "72318b87",
   "metadata": {
    "execution": {
     "iopub.execute_input": "2025-02-11T22:50:29.855266Z",
     "iopub.status.busy": "2025-02-11T22:50:29.854900Z",
     "iopub.status.idle": "2025-02-11T22:50:29.866138Z",
     "shell.execute_reply": "2025-02-11T22:50:29.865207Z"
    },
    "papermill": {
     "duration": 0.027169,
     "end_time": "2025-02-11T22:50:29.867907",
     "exception": false,
     "start_time": "2025-02-11T22:50:29.840738",
     "status": "completed"
    },
    "tags": []
   },
   "outputs": [
    {
     "data": {
      "text/html": [
       "<div>\n",
       "<style scoped>\n",
       "    .dataframe tbody tr th:only-of-type {\n",
       "        vertical-align: middle;\n",
       "    }\n",
       "\n",
       "    .dataframe tbody tr th {\n",
       "        vertical-align: top;\n",
       "    }\n",
       "\n",
       "    .dataframe thead th {\n",
       "        text-align: right;\n",
       "    }\n",
       "</style>\n",
       "<table border=\"1\" class=\"dataframe\">\n",
       "  <thead>\n",
       "    <tr style=\"text-align: right;\">\n",
       "      <th></th>\n",
       "      <th>rank</th>\n",
       "      <th>Video</th>\n",
       "      <th>Video views</th>\n",
       "      <th>Likes</th>\n",
       "      <th>Dislikes</th>\n",
       "      <th>Category</th>\n",
       "      <th>published</th>\n",
       "    </tr>\n",
       "  </thead>\n",
       "  <tbody>\n",
       "    <tr>\n",
       "      <th>0</th>\n",
       "      <td>1</td>\n",
       "      <td>Lil Nas X - Old Town Road (Official Movie) ft....</td>\n",
       "      <td>5.407168e+07</td>\n",
       "      <td>3497955.0</td>\n",
       "      <td>78799.0</td>\n",
       "      <td>Music</td>\n",
       "      <td>2019</td>\n",
       "    </tr>\n",
       "    <tr>\n",
       "      <th>1</th>\n",
       "      <td>2</td>\n",
       "      <td>20 Tennis shots if they were not filmed, NOBOD...</td>\n",
       "      <td>3.471237e+06</td>\n",
       "      <td>19023.0</td>\n",
       "      <td>859.0</td>\n",
       "      <td>Music</td>\n",
       "      <td>2017</td>\n",
       "    </tr>\n",
       "    <tr>\n",
       "      <th>2</th>\n",
       "      <td>3</td>\n",
       "      <td>JoJo Siwa - Karma (Official Video)</td>\n",
       "      <td>3.420675e+07</td>\n",
       "      <td>293563.0</td>\n",
       "      <td>477.0</td>\n",
       "      <td>Music</td>\n",
       "      <td>2024</td>\n",
       "    </tr>\n",
       "    <tr>\n",
       "      <th>3</th>\n",
       "      <td>4</td>\n",
       "      <td>David Kushner - Daylight (Official Music Video)</td>\n",
       "      <td>1.855839e+07</td>\n",
       "      <td>680732.0</td>\n",
       "      <td>477.0</td>\n",
       "      <td>Music</td>\n",
       "      <td>2023</td>\n",
       "    </tr>\n",
       "    <tr>\n",
       "      <th>4</th>\n",
       "      <td>5</td>\n",
       "      <td>Wiz Khalifa - See You Again ft. Charlie Puth [...</td>\n",
       "      <td>6.547981e+09</td>\n",
       "      <td>44428537.0</td>\n",
       "      <td>477.0</td>\n",
       "      <td>Music</td>\n",
       "      <td>2015</td>\n",
       "    </tr>\n",
       "  </tbody>\n",
       "</table>\n",
       "</div>"
      ],
      "text/plain": [
       "   rank                                              Video   Video views  \\\n",
       "0     1  Lil Nas X - Old Town Road (Official Movie) ft....  5.407168e+07   \n",
       "1     2  20 Tennis shots if they were not filmed, NOBOD...  3.471237e+06   \n",
       "2     3                 JoJo Siwa - Karma (Official Video)  3.420675e+07   \n",
       "3     4    David Kushner - Daylight (Official Music Video)  1.855839e+07   \n",
       "4     5  Wiz Khalifa - See You Again ft. Charlie Puth [...  6.547981e+09   \n",
       "\n",
       "        Likes  Dislikes Category  published  \n",
       "0   3497955.0   78799.0    Music       2019  \n",
       "1     19023.0     859.0    Music       2017  \n",
       "2    293563.0     477.0    Music       2024  \n",
       "3    680732.0     477.0    Music       2023  \n",
       "4  44428537.0     477.0    Music       2015  "
      ]
     },
     "execution_count": 33,
     "metadata": {},
     "output_type": "execute_result"
    }
   ],
   "source": [
    "df.head()"
   ]
  },
  {
   "cell_type": "code",
   "execution_count": 34,
   "id": "27617856",
   "metadata": {
    "execution": {
     "iopub.execute_input": "2025-02-11T22:50:29.896276Z",
     "iopub.status.busy": "2025-02-11T22:50:29.895955Z",
     "iopub.status.idle": "2025-02-11T22:50:29.903614Z",
     "shell.execute_reply": "2025-02-11T22:50:29.902303Z"
    },
    "papermill": {
     "duration": 0.023801,
     "end_time": "2025-02-11T22:50:29.905585",
     "exception": false,
     "start_time": "2025-02-11T22:50:29.881784",
     "status": "completed"
    },
    "tags": []
   },
   "outputs": [
    {
     "data": {
      "text/plain": [
       "rank           0\n",
       "Video          0\n",
       "Video views    0\n",
       "Likes          0\n",
       "Dislikes       0\n",
       "Category       0\n",
       "published      0\n",
       "dtype: int64"
      ]
     },
     "execution_count": 34,
     "metadata": {},
     "output_type": "execute_result"
    }
   ],
   "source": [
    "df.isnull().sum()"
   ]
  },
  {
   "cell_type": "markdown",
   "id": "77691302",
   "metadata": {
    "papermill": {
     "duration": 0.012532,
     "end_time": "2025-02-11T22:50:29.931312",
     "exception": false,
     "start_time": "2025-02-11T22:50:29.918780",
     "status": "completed"
    },
    "tags": []
   },
   "source": [
    "**FINAL CONCLUTIONS**\n",
    "\n",
    "***1 - The category more visualizated is People and blogs, if you compared with the reality, this is very commun.\n",
    "2 - The youtube in 2015 is more visualizated videos, this is true, because in this date, very people starting used this plataform.\n",
    "3 - The category with more channels is Music.***"
   ]
  }
 ],
 "metadata": {
  "kaggle": {
   "accelerator": "none",
   "dataSources": [
    {
     "datasetId": 6558249,
     "sourceId": 10595769,
     "sourceType": "datasetVersion"
    }
   ],
   "dockerImageVersionId": 30886,
   "isGpuEnabled": false,
   "isInternetEnabled": false,
   "language": "python",
   "sourceType": "notebook"
  },
  "kernelspec": {
   "display_name": "Python 3",
   "language": "python",
   "name": "python3"
  },
  "language_info": {
   "codemirror_mode": {
    "name": "ipython",
    "version": 3
   },
   "file_extension": ".py",
   "mimetype": "text/x-python",
   "name": "python",
   "nbconvert_exporter": "python",
   "pygments_lexer": "ipython3",
   "version": "3.10.12"
  },
  "papermill": {
   "default_parameters": {},
   "duration": 9.351603,
   "end_time": "2025-02-11T22:50:30.820994",
   "environment_variables": {},
   "exception": null,
   "input_path": "__notebook__.ipynb",
   "output_path": "__notebook__.ipynb",
   "parameters": {},
   "start_time": "2025-02-11T22:50:21.469391",
   "version": "2.6.0"
  }
 },
 "nbformat": 4,
 "nbformat_minor": 5
}
